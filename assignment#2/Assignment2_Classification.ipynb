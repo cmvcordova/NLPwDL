{
 "cells": [
  {
   "cell_type": "markdown",
   "metadata": {},
   "source": [
    "Please fill out the information of your group!\n",
    "\n",
    "| <p style=\"text-align: center;\">First Name</p>  | <p style=\"text-align: center;\">Family Name</p> | Matr.-No. |\n",
    "| ---------------------------------------------- | ---------------------------------------------- | -------- |\n",
    "| <p style=\"text-align: left\">*EDIT!*</p>| <p style=\"text-align: left\">*EDIT!*</p> | *EDIT!* |\n",
    "| <p style=\"text-align: left\">*EDIT!*</p>| <p style=\"text-align: left\">*EDIT!*</p> | *EDIT!* |\n"
   ]
  },
  {
   "cell_type": "markdown",
   "metadata": {},
   "source": [
    "<h2 style=\"text-align: center\">344.063: Special Topics - Natural Language Processing with Deep Learning (SS2022)</h2>\n",
    "<h1 style=\"text-align: center; color:rgb(0,120,170)\">Assignment 2: Document Classification with Attention and Transformers</h1>"
   ]
  },
  {
   "cell_type": "markdown",
   "metadata": {},
   "source": [
    "<div style=\"background-color:rgb(224, 243, 255)\">\n",
    "<b>Terms of Use</b><br>\n",
    "This  material is prepared for educational purposes at the Johannes Kepler University (JKU) Linz, and is exclusively provided to the registered students of the mentioned course at JKU. It is strictly forbidden to distribute the current file, the contents of the assignment, and its solution. The use or reproduction of this manuscript is only allowed for educational purposes in non-profit organizations, while in this case, the explicit prior acceptance of the author(s) is required.\n",
    "\n",
    "**Author:** Navid Rekab-saz<br>\n",
    "**Email:** navid.rekabsaz@jku.at<br>\n",
    "\n",
    "</div>"
   ]
  },
  {
   "cell_type": "markdown",
   "metadata": {},
   "source": [
    "<h2>Table of contents</h2>\n",
    "<ol>\n",
    "    <a href=\"#section-general-guidelines\"><li style=\"font-size:large;font-weight:bold\">General Guidelines</li></a>\n",
    "    <a href=\"#section-classification-attention\"><li style=\"font-size:large;font-weight:bold\">Task A: Document Classification with Attention (10 points)</li></a>\n",
    "    <a href=\"#section-classification-transformer\"><li style=\"font-size:large;font-weight:bold\">Task B: Document Classification with Transformer (10 points)</li></a>\n",
    "    <a href=\"#section-classification-bert\"><li style=\"font-size:large;font-weight:bold\">Task C: Document Classification with BERT (5 points)</li></a>\n",
    "    <a href=\"#section-interpretation\"><li style=\"font-size:large;font-weight:bold\">Task D: Interpreting Attention Weights (3 extra points)</li></a>\n",
    "    \n",
    "</ol>"
   ]
  },
  {
   "cell_type": "markdown",
   "metadata": {},
   "source": [
    "<a name=\"section-general-guidelines\"></a><h2 style=\"color:rgb(0,120,170)\">General Guidelines</h2>"
   ]
  },
  {
   "cell_type": "markdown",
   "metadata": {},
   "source": [
    "<div style=\"background-color:rgb(224, 243, 255)\">\n",
    "\n",
    "### Assignment objective\n",
    "\n",
    "The aim of this assignment is to implement a document (sequence) classification model with PyTorch using Attention networks, Transformers, and BERT. You can/should use the codes implemented in the previous assignment. Main aspects of the deep learning models in this assignment such as preprocessing, dictionary, word embeddings, data batching, loss functions, early stopping, and evaluation are explained in the previous assignment, and **are expected to be fully correct and functional in this assignment**.\n",
    "\n",
    "The assignment has **25 points** in total as well as **3 overall extra points**. This Notebook encompasses all aspects of the assignment, namely the descriptions of tasks as well as your solutions and reports. Feel free to add any required cell for solutions. The cells can contains code, reports, charts, tables, or any other material, required for the assignment. Feel free to provide the solutions in an interactive and visual way! \n",
    "\n",
    "Please discuss any unclear point in the assignment in the provided forum in MOODLE. It is also encouraged to provide answers to your peer's questions. However when submitting a post, keep in mind to avoid providing solutions. Please let the tutor(s) know shall you find any error or unclarity in the assignment.\n",
    "\n",
    "</div>"
   ]
  },
  {
   "cell_type": "markdown",
   "metadata": {},
   "source": [
    "<div style=\"background-color:rgb(224, 243, 255)\">\n",
    "\n",
    "### Libraries & Dataset\n",
    "\n",
    "The assignment should be implemented with recent versions of `Python` (>3.7) and `PyTorch` (>1.7). Any standard Python library can be used, so far that the library is free and can be simply installed using `pip` or `conda`. Examples of potentially useful libraries are `transformer`, `scikit-learn`, `numpy`, `scipy`, `gensim`, `nltk`, `spaCy`, and `AllenNLP`. Use the latest stable version of each library.\n",
    "\n",
    "To conduct the experiments, two datasets are provided. The datasets are taken from the data of `thedeep` project, produced by the DEEP (https://www.thedeep.io) platform. The DEEP is an open-source platform, which aims to facilitate processing of textual data for international humanitarian response organizations. The platform enables the classification of text excerpts, extracted from news and reports into a set of domain specific classes. The provided dataset has 12 classes (labels) like agriculture, health, and protection. \n",
    "\n",
    "The difference between the datasets is in their sizes. We refer to these as `medium` and `small`, containing an overall number of 38,000 and 12,000 annotated text excerpts, respectively. Select one of the datasets, and use it for all of the tasks. `medium` provides more data and therefore reflects a more realistic scenario. `small` is however provided for the sake of convenience, particularly if running the experiments on your available hardware takes too long. Using `medium` is generally recommended, but from the point of view of assignment grading, there is no difference between the datasets.\n",
    "\n",
    "Download the dataset from [this link](https://drive.jku.at/filr/public-link/file-download/0cce88f07f0df27c017f8ea132693d61/38160/1583790728782872458/nlpwdl2022_data.zip).\n",
    "\n",
    "Whether `medium` or `small`, you will find the following files in the provided zip file:\n",
    "- `thedeep.$name$.train.txt`: Train set in csv format with three fields: sentence_id, text, and label.\n",
    "- `thedeep.$name$.validation.txt`: Validation set in csv format with three fields: sentence_id, text, and label.\n",
    "- `thedeep.$name$.test.txt`: Test set in csv format with three fields: sentence_id, text, and label.\n",
    "- `thedeep.$name$.label.txt`: Captions of the labels.\n",
    "- `README.txt`: Terms of use of the dataset.\n",
    "\n",
    "</div>\n",
    "\n"
   ]
  },
  {
   "cell_type": "markdown",
   "metadata": {},
   "source": [
    "<div style=\"background-color:rgb(224, 243, 255)\">\n",
    "\n",
    "### Submission\n",
    "\n",
    "Each group should submit the following two files:\n",
    "\n",
    "- One Jupyter Notebook file (`.ipynb`), containing all the code, results, visualizations, etc. **In the submitted Notebook, all the results and visualizations should already be present, and can be observed simply by loading the Notebook in a browser.** The Notebook must be self-contained, meaning that (if necessary) one can run all the cells from top to bottom without any error. Do not forget to put in your names and student numbers in the first cell of the Notebook. \n",
    "- The HTML file (`.html`) achieved from exporting the Jupyter Notebook to HTML (Download As HTML).\n",
    "\n",
    "You do not need to include the data files in the submission.\n",
    "\n",
    "\n",
    "</div>"
   ]
  },
  {
   "cell_type": "markdown",
   "metadata": {},
   "source": [
    "<div style=\"background-color:rgb(224, 243, 255)\">\n",
    "\n",
    "### Publishing Experiments Results\n",
    "\n",
    "It is encouraged that you log and store any information about the training and evaluation of the models in an ML dashboard like [`TensorBoard`](https://www.tensorflow.org/tensorboard) or [`wandb`](https://wandb.ai/site). This can contain any important aspect of training such as the changes in the evaluation results on validation, training loss, or learning rate. \n",
    "\n",
    "To this end, in the case of `TensorBoard`, after finalizing all experiments and cleaning any unnecessary experiment, publish the log files results through [`TensorBoard.dev`](https://tensorboard.dev). A simple way of doing it is by running the following command in the folder of log files:\n",
    "\n",
    "`tensorboard dev upload --name my_exp --logdir path/to/output_dir`\n",
    "\n",
    "`TensorBoard.dev` uploads the necessary files and provides a URL to see the TensorBoard's console. Insert the URL in the cell below.\n",
    "\n",
    "</div>"
   ]
  },
  {
   "cell_type": "markdown",
   "metadata": {},
   "source": [
    "**URL :** *EDIT!*"
   ]
  },
  {
   "cell_type": "markdown",
   "metadata": {},
   "source": [
    "<h1 style=\"color:pink\">Run those cells to donwload the data and prepare the environment if you want to run task* cells</h1>\n",
    "\n",
    "---------------------------------------------------------------------------------------------------------------------------"
   ]
  },
  {
   "cell_type": "code",
   "execution_count": 3,
   "metadata": {},
   "outputs": [
    {
     "name": "stdout",
     "output_type": "stream",
     "text": [
      "--2022-05-31 14:21:38--  https://drive.jku.at/filr/public-link/file-download/0cce88f07f0df27c017f8ea132693d61/38160/1583790728782872458/nlpwdl2022_data.zip\n",
      "Resolving drive.jku.at (drive.jku.at)... 140.78.3.241\n",
      "Connecting to drive.jku.at (drive.jku.at)|140.78.3.241|:443... connected.\n",
      "HTTP request sent, awaiting response... 302 \n",
      "Location: /ssf/s/readFile/share/38160/1583790728782872458/publicLink/nlpwdl2022_data.zip [following]\n",
      "--2022-05-31 14:21:39--  https://drive.jku.at/ssf/s/readFile/share/38160/1583790728782872458/publicLink/nlpwdl2022_data.zip\n",
      "Reusing existing connection to drive.jku.at:443.\n",
      "HTTP request sent, awaiting response... 200 \n",
      "Length: 8936417 (8.5M) [application/zip]\n",
      "Saving to: ‘./data/nlpwdl2022_data.zip’\n",
      "\n",
      "nlpwdl2022_data.zip 100%[===================>]   8.52M  1.14MB/s    in 8.8s    \n",
      "\n",
      "2022-05-31 14:21:48 (992 KB/s) - ‘./data/nlpwdl2022_data.zip’ saved [8936417/8936417]\n",
      "\n",
      "Archive:  data/nlpwdl2022_data.zip\n",
      "   creating: ./data/nlpwdl2021_data/\n",
      "  inflating: ./data/nlpwdl2021_data/thedeep.medium.train.txt  \n",
      "  inflating: ./data/nlpwdl2021_data/thedeep.small.train.txt  \n",
      "  inflating: ./data/nlpwdl2021_data/.DS_Store  \n",
      "  inflating: ./data/__MACOSX/nlpwdl2021_data/._.DS_Store  \n",
      "  inflating: ./data/nlpwdl2021_data/thedeep.small.test.txt  \n",
      "  inflating: ./data/nlpwdl2021_data/thedeep.labels.txt  \n",
      "  inflating: ./data/__MACOSX/nlpwdl2021_data/._thedeep.labels.txt  \n",
      "  inflating: ./data/nlpwdl2021_data/thedeep.small.validation.txt  \n",
      "  inflating: ./data/nlpwdl2021_data/README.txt  \n",
      "  inflating: ./data/__MACOSX/nlpwdl2021_data/._README.txt  \n",
      "  inflating: ./data/nlpwdl2021_data/thedeep.medium.validation.txt  \n",
      "  inflating: ./data/nlpwdl2021_data/thedeep.medium.test.txt  \n"
     ]
    }
   ],
   "source": [
    "!mkdir data\n",
    "!wget https://drive.jku.at/filr/public-link/file-download/0cce88f07f0df27c017f8ea132693d61/38160/1583790728782872458/nlpwdl2022_data.zip -P ./data\n",
    "!unzip data/nlpwdl2022_data.zip -d ./data"
   ]
  },
  {
   "cell_type": "code",
   "execution_count": 4,
   "metadata": {},
   "outputs": [
    {
     "name": "stdout",
     "output_type": "stream",
     "text": [
      "Collecting virtualenv\n",
      "  Downloading virtualenv-20.14.1-py2.py3-none-any.whl (8.8 MB)\n",
      "\u001b[K     |████████████████████████████████| 8.8 MB 3.7 MB/s eta 0:00:01\n",
      "\u001b[?25hRequirement already satisfied: six<2,>=1.9.0 in /home/ionelia/pycharm-projects/venvs/nlp/lib/python3.8/site-packages (from virtualenv) (1.16.0)\n",
      "Collecting platformdirs<3,>=2\n",
      "  Downloading platformdirs-2.5.2-py3-none-any.whl (14 kB)\n",
      "Requirement already satisfied: filelock<4,>=3.2 in /home/ionelia/pycharm-projects/venvs/nlp/lib/python3.8/site-packages (from virtualenv) (3.6.0)\n",
      "Collecting distlib<1,>=0.3.1\n",
      "  Downloading distlib-0.3.4-py2.py3-none-any.whl (461 kB)\n",
      "\u001b[K     |████████████████████████████████| 461 kB 17.6 MB/s eta 0:00:01\n",
      "\u001b[?25hInstalling collected packages: platformdirs, distlib, virtualenv\n",
      "Successfully installed distlib-0.3.4 platformdirs-2.5.2 virtualenv-20.14.1\n",
      "created virtual environment CPython3.8.10.final.0-64 in 251ms\n",
      "  creator CPython3Posix(dest=/home/ionelia/pycharm-projects/NLPwDL/assignment#2/venv-nlp, clear=False, no_vcs_ignore=False, global=False)\n",
      "  seeder FromAppData(download=False, pip=bundle, setuptools=bundle, wheel=bundle, via=copy, app_data_dir=/home/ionelia/.local/share/virtualenv)\n",
      "    added seed packages: pip==22.0.4, setuptools==62.1.0, wheel==0.37.1\n",
      "  activators BashActivator,CShellActivator,FishActivator,NushellActivator,PowerShellActivator,PythonActivator\n"
     ]
    }
   ],
   "source": [
    "!python3 -m pip install virtualenv\n",
    "!python3 -m virtualenv venv-nlp"
   ]
  },
  {
   "cell_type": "code",
   "execution_count": 29,
   "metadata": {},
   "outputs": [],
   "source": [
    "# !python3 -m pip install ipykernel\n",
    "# !python3 -m ipykernel install --name=`${pwd}/venv-nlp`"
   ]
  },
  {
   "cell_type": "code",
   "execution_count": null,
   "metadata": {},
   "outputs": [],
   "source": [
    "!pip install experiment-buddy\n",
    "TODO add the others"
   ]
  },
  {
   "cell_type": "markdown",
   "metadata": {},
   "source": [
    "<a name=\"section-classification-attention\"></a><h2 style=\"color:rgb(0,120,170)\">Task A: Document Classification with Attention (10 points)</h2>"
   ]
  },
  {
   "attachments": {
    "att_model.png": {
     "image/png": "[encoded data removed]"
    }
   },
   "cell_type": "markdown",
   "metadata": {},
   "source": [
    "<div style=\"background-color:rgb(224, 243, 255)\">\n",
    "    \n",
    "This task implements a document classification model using Attention networks. The model is called **`ClassificationAttentionModel`** in the code, containing all various variants as explained later. The basic architecture of `ClassificationAttentionModel` is shown in the figure below.\n",
    "\n",
    "<img src=\"attachment:att_model.png\" alt=\"Drawing\" style=\"width: 290px;\"/>\n",
    "\n",
    "The implementation of the basic architecture of `ClassificationAttentionModel` should cover the following points:\n",
    "\n",
    "**Baseline model**  \n",
    "\n",
    "- **Embeddings & RNN Layer (1 points).** The baseline model first fetches the corresponding embeddings of the word IDs of a given batch. Next, a bidirectional LSTM/GRU layer is applied to the word embeddings. The hidden states of this RNN model can be seen as the contextual embeddings of the underlying word embeddings, and will be used in the next layer instead of the original word embeddings.\n",
    "\n",
    "- **Attention Layer (4 points).** To create the Attention layer, implement an attention network that satisfies the needs of the assignment, i.e. masking as explained in the following. While it is suggested that you implement this attention network by yourself from scratch, you are allowed to use any available implementation of (single-head) attention networks. Among various implementations, the only ones that you are **NOT allowed** to use in this task are the ones based on multi-heads like `torch.nn.MultiheadAttention`. In the baseline architecture, the Attention network must be the (single-head) basic dot-product. Query vector is defined in the model initialization as *a vector of learnable parameters*, whose values will be learned together with the other model's parameters during training. The hidden states of the previous layer are passed as the values (and keys) to the Attention layer, where the Query vector is the query of the Attention. An important point in the forward pass of the Attention layer is setting correct padding masks. These should mask out the attention weights of the padded tokens of each batch. The masks excludes the corresponding vectors of these padded tokens from the calculations in Attention. If the mask is not passed correctly, the padded items will be counted in the Softmax of the Attention layer, and influence other attention weights. A sign that it is working correctly is that final attention weights of the corresponding vectors of the padded tokens are equal to zero. \n",
    "\n",
    "- **Prediction Layer (1 points).** The output of the Attention layer for each batch is the corresponding document embedding, passed to the decoder layer (a linear projection) and softmax to predict the probability distribution of the output classes.\n",
    "\n",
    "- **General model functionality (1 points).** \n",
    "\n",
    "\n",
    "**Model variations:** Implement the **two variations** of the baseline model as explained below. Each variation applies only one change to the baseline architecture, making it possible to study the effect of the change. The code of all variations should be inside `ClassificationAttentionModel`, and executing a variation should be done by simply passing the corresponding parameters of the variation to the model. \n",
    "\n",
    "- **No RNN (1 point).** Run the model without the RNN layer.\n",
    "\n",
    "- **Attention Type (1 point).** Implement another type of single-head Attention other than basic dot-product.\n",
    "\n",
    "**Reporting and discussion (1 point).** Report the evaluation results of the baseline model, as well as the ones for all the variations in a table and also in a plot. Discuss which variation(s) appear to be the most effective. Explain your take.\n",
    "\n",
    "\n",
    "</div>"
   ]
  },
  {
   "cell_type": "markdown",
   "metadata": {},
   "source": [
    "## **Task A :: Part#1** :: data visualization, understading and processing"
   ]
  },
  {
   "cell_type": "code",
   "execution_count": 2,
   "metadata": {},
   "outputs": [],
   "source": [
    "import os\n",
    "import pandas as pd\n",
    "import matplotlib.pyplot as plt\n",
    "import seaborn as sns\n",
    "import pandas as pd\n",
    "import numpy as np\n",
    "\n",
    "import os\n",
    "import random\n",
    "from pathlib import Path\n",
    "from typing import Union, Tuple, List\n",
    "\n",
    "import numpy as np\n",
    "import pandas as pd\n",
    "import torch\n",
    "import torch.nn.functional as F\n",
    "from tokenizers import Tokenizer\n",
    "from tokenizers.decoders import WordPiece as WordPieceDecoder\n",
    "from tokenizers.models import WordPiece\n",
    "from tokenizers.normalizers import NFKC, BertNormalizer, Sequence\n",
    "from tokenizers.pre_tokenizers import BertPreTokenizer\n",
    "from tokenizers.trainers import WordPieceTrainer\n",
    "from torch import nn, Tensor\n",
    "from torch.nn.utils.rnn import pack_padded_sequence, pad_packed_sequence\n",
    "from torch.nn.utils.rnn import pad_sequence\n",
    "from torch.optim import Adam\n",
    "from torch.optim import Optimizer\n",
    "from torch.utils.data import DataLoader\n",
    "from torch.utils.data import Dataset\n",
    "from tqdm import tqdm\n",
    "import experiment_buddy\n",
    "from torch.utils.tensorboard import SummaryWriter\n",
    "\n",
    "# to make it reproducible\n",
    "torch.manual_seed(0)\n",
    "np.random.seed(0)\n",
    "random.seed(0)"
   ]
  },
  {
   "cell_type": "code",
   "execution_count": 2,
   "metadata": {},
   "outputs": [],
   "source": [
    "def read_data(data_path):\n",
    "    data = []\n",
    "    with open(data_path, 'r', encoding='UTF8') as f:\n",
    "        for line in f.readlines():\n",
    "            line = line.split(',', 1)[1]\n",
    "            text = line.rsplit(',', 1)[0].strip('\"')\n",
    "            data.append(text)\n",
    "    return data"
   ]
  },
  {
   "cell_type": "code",
   "execution_count": 3,
   "metadata": {},
   "outputs": [],
   "source": [
    "def read_data_v2(data_path):         \n",
    "    data = []\n",
    "    with open(data_path, 'r', encoding='utf-8') as f:\n",
    "        text = f.read()\n",
    "\n",
    "    text = text.split('\\n')\n",
    "    \n",
    "    for sentence in text:\n",
    "        data.append(sentence)\n",
    "               \n",
    "    return data"
   ]
  },
  {
   "cell_type": "code",
   "execution_count": 4,
   "metadata": {},
   "outputs": [
    {
     "name": "stdout",
     "output_type": "stream",
     "text": [
      "README.txt\t\t  thedeep.medium.validation.txt\n",
      "thedeep.labels.txt\t  thedeep.small.test.txt\n",
      "thedeep.medium.test.txt   thedeep.small.train.txt\n",
      "thedeep.medium.train.txt  thedeep.small.validation.txt\n"
     ]
    }
   ],
   "source": [
    "!ls data/nlpwdl2021_data/"
   ]
  },
  {
   "cell_type": "code",
   "execution_count": 3,
   "metadata": {},
   "outputs": [],
   "source": [
    "loaded_all_data_dict = {'small': {'train': None, 'validation': None, 'test': None}, 'medium': {'train': None, 'validation': None, 'test': None}}"
   ]
  },
  {
   "cell_type": "code",
   "execution_count": 4,
   "metadata": {},
   "outputs": [
    {
     "name": "stdout",
     "output_type": "stream",
     "text": [
      "8401 num unique tokens small#train\n",
      "1801 num unique tokens small#validation\n",
      "1801 num unique tokens small#test\n",
      "26601 num unique tokens medium#train\n",
      "5701 num unique tokens medium#validation\n",
      "5701 num unique tokens medium#test\n"
     ]
    }
   ],
   "source": [
    "for data_size in [\"small\", \"medium\"]:\n",
    "    for data_split in ['train', 'validation', 'test']:\n",
    "        loaded_all_data_dict[data_size][data_split] = read_data_v2(f\"data/nlpwdl2021_data/thedeep.{data_size}.{data_split}.txt\")\n",
    "        len_set_data=len(set(loaded_all_data_dict[data_size][data_split]))\n",
    "        print(f\"{len_set_data} num unique tokens {data_size}#{data_split}\")"
   ]
  },
  {
   "cell_type": "code",
   "execution_count": 37,
   "metadata": {},
   "outputs": [
    {
     "name": "stdout",
     "output_type": "stream",
     "text": [
      "unique tokens in combined train sets are -> 20262\n"
     ]
    }
   ],
   "source": [
    "set_small_medium_merged = set(loaded_all_data_dic['small']['train']+loaded_all_data_dic['medium']['train'])\n",
    "print(\"unique tokens in combined train sets are ->\",len(set_small_medium_merged))"
   ]
  },
  {
   "cell_type": "code",
   "execution_count": 48,
   "metadata": {},
   "outputs": [],
   "source": [
    "train_df= pd.read_csv('thedeep.small.train_processed.txt')"
   ]
  },
  {
   "cell_type": "code",
   "execution_count": 128,
   "metadata": {},
   "outputs": [],
   "source": [
    "with open(f'small_train+val+test.txt', 'w') as f:\n",
    "    for set_name in ['train', 'validation', 'test']:\n",
    "            text = loaded_all_data_dict['small'][set_name]\n",
    "            for sentence in text:\n",
    "                f.write(f\"{sentence},{set_name}\\n\")"
   ]
  },
  {
   "cell_type": "code",
   "execution_count": 198,
   "metadata": {},
   "outputs": [],
   "source": [
    "# merge sets medium into one file\n",
    "with open(f'medium_train+val+test.txt', 'w') as f:\n",
    "    for set_name in ['train', 'validation', 'test']:\n",
    "            text = loaded_all_data_dict['medium'][set_name]\n",
    "            for sentence in text:\n",
    "                f.write(f\"{sentence},{set_name}\\n\")"
   ]
  },
  {
   "cell_type": "code",
   "execution_count": 7,
   "metadata": {},
   "outputs": [
    {
     "name": "stdout",
     "output_type": "stream",
     "text": [
      "['0,Agriculture', '1,Cross', '2,Education', '3,Food', '4,Health', '5,Livelihood', '6,Logistic', '7,NFI', '8,Nutrition', '9,Protection', '10,Shelter', '11,WASH']\n",
      "{'0': 'Agriculture', '1': 'Cross', '2': 'Education', '3': 'Food', '4': 'Health', '5': 'Livelihood', '6': 'Logistic', '7': 'NFI', '8': 'Nutrition', '9': 'Protection', '10': 'Shelter', '11': 'WASH'}\n"
     ]
    },
    {
     "name": "stderr",
     "output_type": "stream",
     "text": [
      "/tmp/ipykernel_735822/208382196.py:20: SettingWithCopyWarning: \n",
      "A value is trying to be set on a copy of a slice from a DataFrame.\n",
      "Try using .loc[row_indexer,col_indexer] = value instead\n",
      "\n",
      "See the caveats in the documentation: https://pandas.pydata.org/pandas-docs/stable/user_guide/indexing.html#returning-a-view-versus-a-copy\n",
      "  df_medium_data_sets.loc[:, ('str_labels')] = [labels[str(int(i))] for i in df_medium_data_sets['label'].values]\n"
     ]
    }
   ],
   "source": [
    "df_small_data_sets = df = pd.read_csv('small_train+val+test.txt' , names=[\"id\", \"text\", \"label\", \"set\"])\n",
    "df_medium_data_sets = df = pd.read_csv('medium_train+val+test.txt' , names=[\"id\", \"text\", \"label\", \"set\"])\n",
    "\n",
    "# remove nans\n",
    "df_small_data_sets = df_small_data_sets[df_small_data_sets['label'].notna()]\n",
    "df_medium_data_sets = df_medium_data_sets[df_medium_data_sets['label'].notna()]\n",
    "\n",
    "\n",
    "labels = {}\n",
    "with open(\"data/nlpwdl2021_data/thedeep.labels.txt\", \"r\") as f:\n",
    "    f = f.read().split()\n",
    "    print(f)\n",
    "    for label in f:\n",
    "        num_label, str_label = label.split(',')\n",
    "        labels[num_label] = str_label\n",
    "print(labels)        \n",
    "\n",
    "\n",
    "df_small_data_sets.loc[:, ('str_labels')] = [labels[str(int(i))] for i in df_small_data_sets['label'].values]\n",
    "df_medium_data_sets.loc[:, ('str_labels')] = [labels[str(int(i))] for i in df_medium_data_sets['label'].values]"
   ]
  },
  {
   "cell_type": "code",
   "execution_count": 48,
   "metadata": {},
   "outputs": [
    {
     "data": {
      "text/html": [
       "<div>\n",
       "<style scoped>\n",
       "    .dataframe tbody tr th:only-of-type {\n",
       "        vertical-align: middle;\n",
       "    }\n",
       "\n",
       "    .dataframe tbody tr th {\n",
       "        vertical-align: top;\n",
       "    }\n",
       "\n",
       "    .dataframe thead th {\n",
       "        text-align: right;\n",
       "    }\n",
       "</style>\n",
       "<table border=\"1\" class=\"dataframe\">\n",
       "  <thead>\n",
       "    <tr style=\"text-align: right;\">\n",
       "      <th></th>\n",
       "      <th>id</th>\n",
       "      <th>text</th>\n",
       "      <th>label</th>\n",
       "      <th>set</th>\n",
       "      <th>str_labels</th>\n",
       "    </tr>\n",
       "  </thead>\n",
       "  <tbody>\n",
       "    <tr>\n",
       "      <th>0</th>\n",
       "      <td>6615.0</td>\n",
       "      <td>Cholera Daily Situation Report as of 4 Novembe...</td>\n",
       "      <td>4.0</td>\n",
       "      <td>train</td>\n",
       "      <td>Health</td>\n",
       "    </tr>\n",
       "    <tr>\n",
       "      <th>1</th>\n",
       "      <td>659.0</td>\n",
       "      <td>12 321 people affected, five deaths, one perso...</td>\n",
       "      <td>10.0</td>\n",
       "      <td>train</td>\n",
       "      <td>Shelter</td>\n",
       "    </tr>\n",
       "    <tr>\n",
       "      <th>2</th>\n",
       "      <td>8591.0</td>\n",
       "      <td>Violent clashes and inter-communal tensions ha...</td>\n",
       "      <td>3.0</td>\n",
       "      <td>train</td>\n",
       "      <td>Food</td>\n",
       "    </tr>\n",
       "    <tr>\n",
       "      <th>3</th>\n",
       "      <td>8373.0</td>\n",
       "      <td>AT least 12 people have been killed and severa...</td>\n",
       "      <td>5.0</td>\n",
       "      <td>train</td>\n",
       "      <td>Livelihood</td>\n",
       "    </tr>\n",
       "    <tr>\n",
       "      <th>4</th>\n",
       "      <td>10125.0</td>\n",
       "      <td>Unidentified gunmen attacked a civilian home, ...</td>\n",
       "      <td>9.0</td>\n",
       "      <td>train</td>\n",
       "      <td>Protection</td>\n",
       "    </tr>\n",
       "    <tr>\n",
       "      <th>...</th>\n",
       "      <td>...</td>\n",
       "      <td>...</td>\n",
       "      <td>...</td>\n",
       "      <td>...</td>\n",
       "      <td>...</td>\n",
       "    </tr>\n",
       "    <tr>\n",
       "      <th>11997</th>\n",
       "      <td>10637.0</td>\n",
       "      <td>In October, many households will have access t...</td>\n",
       "      <td>3.0</td>\n",
       "      <td>test</td>\n",
       "      <td>Food</td>\n",
       "    </tr>\n",
       "    <tr>\n",
       "      <th>11998</th>\n",
       "      <td>1285.0</td>\n",
       "      <td>It is estimated that 1,235 villages in 266 dis...</td>\n",
       "      <td>11.0</td>\n",
       "      <td>test</td>\n",
       "      <td>WASH</td>\n",
       "    </tr>\n",
       "    <tr>\n",
       "      <th>11999</th>\n",
       "      <td>10963.0</td>\n",
       "      <td>The continued fuel crisis across the country i...</td>\n",
       "      <td>7.0</td>\n",
       "      <td>test</td>\n",
       "      <td>NFI</td>\n",
       "    </tr>\n",
       "    <tr>\n",
       "      <th>12000</th>\n",
       "      <td>10143.0</td>\n",
       "      <td>Most of displaced people rely on the scarce re...</td>\n",
       "      <td>3.0</td>\n",
       "      <td>test</td>\n",
       "      <td>Food</td>\n",
       "    </tr>\n",
       "    <tr>\n",
       "      <th>12001</th>\n",
       "      <td>10118.0</td>\n",
       "      <td>Following the launch of the Emergency Appeal, ...</td>\n",
       "      <td>3.0</td>\n",
       "      <td>test</td>\n",
       "      <td>Food</td>\n",
       "    </tr>\n",
       "  </tbody>\n",
       "</table>\n",
       "<p>12000 rows × 5 columns</p>\n",
       "</div>"
      ],
      "text/plain": [
       "            id                                               text  label  \\\n",
       "0       6615.0  Cholera Daily Situation Report as of 4 Novembe...    4.0   \n",
       "1        659.0  12 321 people affected, five deaths, one perso...   10.0   \n",
       "2       8591.0  Violent clashes and inter-communal tensions ha...    3.0   \n",
       "3       8373.0  AT least 12 people have been killed and severa...    5.0   \n",
       "4      10125.0  Unidentified gunmen attacked a civilian home, ...    9.0   \n",
       "...        ...                                                ...    ...   \n",
       "11997  10637.0  In October, many households will have access t...    3.0   \n",
       "11998   1285.0  It is estimated that 1,235 villages in 266 dis...   11.0   \n",
       "11999  10963.0  The continued fuel crisis across the country i...    7.0   \n",
       "12000  10143.0  Most of displaced people rely on the scarce re...    3.0   \n",
       "12001  10118.0  Following the launch of the Emergency Appeal, ...    3.0   \n",
       "\n",
       "         set  str_labels  \n",
       "0      train      Health  \n",
       "1      train     Shelter  \n",
       "2      train        Food  \n",
       "3      train  Livelihood  \n",
       "4      train  Protection  \n",
       "...      ...         ...  \n",
       "11997   test        Food  \n",
       "11998   test        WASH  \n",
       "11999   test         NFI  \n",
       "12000   test        Food  \n",
       "12001   test        Food  \n",
       "\n",
       "[12000 rows x 5 columns]"
      ]
     },
     "execution_count": 48,
     "metadata": {},
     "output_type": "execute_result"
    }
   ],
   "source": [
    "df_small_data_sets"
   ]
  },
  {
   "cell_type": "code",
   "execution_count": 49,
   "metadata": {},
   "outputs": [
    {
     "data": {
      "text/html": [
       "<div>\n",
       "<style scoped>\n",
       "    .dataframe tbody tr th:only-of-type {\n",
       "        vertical-align: middle;\n",
       "    }\n",
       "\n",
       "    .dataframe tbody tr th {\n",
       "        vertical-align: top;\n",
       "    }\n",
       "\n",
       "    .dataframe thead th {\n",
       "        text-align: right;\n",
       "    }\n",
       "</style>\n",
       "<table border=\"1\" class=\"dataframe\">\n",
       "  <thead>\n",
       "    <tr style=\"text-align: right;\">\n",
       "      <th></th>\n",
       "      <th>id</th>\n",
       "      <th>text</th>\n",
       "      <th>label</th>\n",
       "      <th>set</th>\n",
       "      <th>str_labels</th>\n",
       "    </tr>\n",
       "  </thead>\n",
       "  <tbody>\n",
       "    <tr>\n",
       "      <th>0</th>\n",
       "      <td>11609.0</td>\n",
       "      <td>• 214,000 students affected as schools close d...</td>\n",
       "      <td>9.0</td>\n",
       "      <td>train</td>\n",
       "      <td>Protection</td>\n",
       "    </tr>\n",
       "    <tr>\n",
       "      <th>1</th>\n",
       "      <td>28291.0</td>\n",
       "      <td>The primary reported needs for IDPs across the...</td>\n",
       "      <td>4.0</td>\n",
       "      <td>train</td>\n",
       "      <td>Health</td>\n",
       "    </tr>\n",
       "    <tr>\n",
       "      <th>2</th>\n",
       "      <td>9695.0</td>\n",
       "      <td>Some 602 000 IDPs are now spread across the co...</td>\n",
       "      <td>3.0</td>\n",
       "      <td>train</td>\n",
       "      <td>Food</td>\n",
       "    </tr>\n",
       "    <tr>\n",
       "      <th>3</th>\n",
       "      <td>7781.0</td>\n",
       "      <td>South Sudanese soldiers accused of raping at l...</td>\n",
       "      <td>9.0</td>\n",
       "      <td>train</td>\n",
       "      <td>Protection</td>\n",
       "    </tr>\n",
       "    <tr>\n",
       "      <th>4</th>\n",
       "      <td>31382.0</td>\n",
       "      <td>Since the beginning of 2017, 18 882 suspected/...</td>\n",
       "      <td>11.0</td>\n",
       "      <td>train</td>\n",
       "      <td>WASH</td>\n",
       "    </tr>\n",
       "    <tr>\n",
       "      <th>...</th>\n",
       "      <td>...</td>\n",
       "      <td>...</td>\n",
       "      <td>...</td>\n",
       "      <td>...</td>\n",
       "      <td>...</td>\n",
       "    </tr>\n",
       "    <tr>\n",
       "      <th>37997</th>\n",
       "      <td>2722.0</td>\n",
       "      <td>A total of 85 new cases of AWD were reported ...</td>\n",
       "      <td>4.0</td>\n",
       "      <td>test</td>\n",
       "      <td>Health</td>\n",
       "    </tr>\n",
       "    <tr>\n",
       "      <th>37998</th>\n",
       "      <td>11418.0</td>\n",
       "      <td>They also reported that 259 000 people were ev...</td>\n",
       "      <td>10.0</td>\n",
       "      <td>test</td>\n",
       "      <td>Shelter</td>\n",
       "    </tr>\n",
       "    <tr>\n",
       "      <th>37999</th>\n",
       "      <td>24911.0</td>\n",
       "      <td>Iraqi security officials say a double suicide ...</td>\n",
       "      <td>9.0</td>\n",
       "      <td>test</td>\n",
       "      <td>Protection</td>\n",
       "    </tr>\n",
       "    <tr>\n",
       "      <th>38000</th>\n",
       "      <td>31074.0</td>\n",
       "      <td>All new arrivals require health assistance.  ?...</td>\n",
       "      <td>1.0</td>\n",
       "      <td>test</td>\n",
       "      <td>Cross</td>\n",
       "    </tr>\n",
       "    <tr>\n",
       "      <th>38001</th>\n",
       "      <td>36188.0</td>\n",
       "      <td>The United Nations refugee agency is condemnin...</td>\n",
       "      <td>9.0</td>\n",
       "      <td>test</td>\n",
       "      <td>Protection</td>\n",
       "    </tr>\n",
       "  </tbody>\n",
       "</table>\n",
       "<p>38000 rows × 5 columns</p>\n",
       "</div>"
      ],
      "text/plain": [
       "            id                                               text  label  \\\n",
       "0      11609.0  • 214,000 students affected as schools close d...    9.0   \n",
       "1      28291.0  The primary reported needs for IDPs across the...    4.0   \n",
       "2       9695.0  Some 602 000 IDPs are now spread across the co...    3.0   \n",
       "3       7781.0  South Sudanese soldiers accused of raping at l...    9.0   \n",
       "4      31382.0  Since the beginning of 2017, 18 882 suspected/...   11.0   \n",
       "...        ...                                                ...    ...   \n",
       "37997   2722.0   A total of 85 new cases of AWD were reported ...    4.0   \n",
       "37998  11418.0  They also reported that 259 000 people were ev...   10.0   \n",
       "37999  24911.0  Iraqi security officials say a double suicide ...    9.0   \n",
       "38000  31074.0  All new arrivals require health assistance.  ?...    1.0   \n",
       "38001  36188.0  The United Nations refugee agency is condemnin...    9.0   \n",
       "\n",
       "         set  str_labels  \n",
       "0      train  Protection  \n",
       "1      train      Health  \n",
       "2      train        Food  \n",
       "3      train  Protection  \n",
       "4      train        WASH  \n",
       "...      ...         ...  \n",
       "37997   test      Health  \n",
       "37998   test     Shelter  \n",
       "37999   test  Protection  \n",
       "38000   test       Cross  \n",
       "38001   test  Protection  \n",
       "\n",
       "[38000 rows x 5 columns]"
      ]
     },
     "execution_count": 49,
     "metadata": {},
     "output_type": "execute_result"
    }
   ],
   "source": [
    "df_medium_data_sets"
   ]
  },
  {
   "cell_type": "code",
   "execution_count": 81,
   "metadata": {},
   "outputs": [
    {
     "data": {
      "image/png": "[encoded data removed]",
      "text/plain": [
       "<Figure size 720x864 with 2 Axes>"
      ]
     },
     "metadata": {
      "needs_background": "light"
     },
     "output_type": "display_data"
    }
   ],
   "source": [
    "fig, ax = plt.subplots(nrows=2, ncols=1, sharey=False, sharex=True, figsize=(10, 12))\n",
    "ax = ax.flatten()\n",
    "for df, title, i in zip([df_small_data_sets, df_medium_data_sets], ['small', 'medium'], range(0, 2)): \n",
    "    figure = sns.countplot(data=df, x='str_labels', palette='mako', hue='set', ax=ax[i]) \n",
    "    figure.set_xticklabels(figure.get_xticklabels(), rotation=40, ha=\"right\")\n",
    "    figure.set_title(title)\n",
    "    figure.set_title(f\"Classes distribution in {title} sets dataset\")\n",
    "plt.tight_layout()\n",
    "plt.show()"
   ]
  },
  {
   "cell_type": "code",
   "execution_count": 30,
   "metadata": {},
   "outputs": [
    {
     "data": {
      "text/html": [
       "<div>\n",
       "<style scoped>\n",
       "    .dataframe tbody tr th:only-of-type {\n",
       "        vertical-align: middle;\n",
       "    }\n",
       "\n",
       "    .dataframe tbody tr th {\n",
       "        vertical-align: top;\n",
       "    }\n",
       "\n",
       "    .dataframe thead th {\n",
       "        text-align: right;\n",
       "    }\n",
       "</style>\n",
       "<table border=\"1\" class=\"dataframe\">\n",
       "  <thead>\n",
       "    <tr style=\"text-align: right;\">\n",
       "      <th></th>\n",
       "      <th>id</th>\n",
       "      <th>text</th>\n",
       "      <th>label</th>\n",
       "      <th>set</th>\n",
       "      <th>str_labels</th>\n",
       "      <th>len_text</th>\n",
       "    </tr>\n",
       "  </thead>\n",
       "  <tbody>\n",
       "    <tr>\n",
       "      <th>0</th>\n",
       "      <td>6615.0</td>\n",
       "      <td>Cholera Daily Situation Report as of 4 Novembe...</td>\n",
       "      <td>4.0</td>\n",
       "      <td>train</td>\n",
       "      <td>Health</td>\n",
       "      <td>683</td>\n",
       "    </tr>\n",
       "    <tr>\n",
       "      <th>1</th>\n",
       "      <td>659.0</td>\n",
       "      <td>12 321 people affected, five deaths, one perso...</td>\n",
       "      <td>10.0</td>\n",
       "      <td>train</td>\n",
       "      <td>Shelter</td>\n",
       "      <td>275</td>\n",
       "    </tr>\n",
       "  </tbody>\n",
       "</table>\n",
       "</div>"
      ],
      "text/plain": [
       "       id                                               text  label    set  \\\n",
       "0  6615.0  Cholera Daily Situation Report as of 4 Novembe...    4.0  train   \n",
       "1   659.0  12 321 people affected, five deaths, one perso...   10.0  train   \n",
       "\n",
       "  str_labels  len_text  \n",
       "0     Health       683  \n",
       "1    Shelter       275  "
      ]
     },
     "execution_count": 30,
     "metadata": {},
     "output_type": "execute_result"
    }
   ],
   "source": [
    "len_documents = []\n",
    "rows = df_small_data_sets.shape[0]\n",
    "for row in range(rows):\n",
    "    data = df_small_data_sets.iloc[row]\n",
    "    text = data['text'].strip('\"')\n",
    "    len_documents.append(len(text))\n",
    "    \n",
    "df_small_data_sets['len_text'] = np.array(len_documents) # add new coolumns with len text    \n",
    "df_small_data_sets.head(2)"
   ]
  },
  {
   "cell_type": "code",
   "execution_count": 31,
   "metadata": {},
   "outputs": [
    {
     "data": {
      "text/plain": [
       "[<matplotlib.lines.Line2D at 0x7f0ebe1bf760>]"
      ]
     },
     "execution_count": 31,
     "metadata": {},
     "output_type": "execute_result"
    },
    {
     "data": {
      "image/png": "[encoded data removed]",
      "text/plain": [
       "<Figure size 432x288 with 1 Axes>"
      ]
     },
     "metadata": {
      "needs_background": "light"
     },
     "output_type": "display_data"
    }
   ],
   "source": [
    "plt.plot(df_small_data_sets['len_text'])"
   ]
  },
  {
   "cell_type": "code",
   "execution_count": 173,
   "metadata": {},
   "outputs": [
    {
     "data": {
      "text/html": [
       "<div>\n",
       "<style scoped>\n",
       "    .dataframe tbody tr th:only-of-type {\n",
       "        vertical-align: middle;\n",
       "    }\n",
       "\n",
       "    .dataframe tbody tr th {\n",
       "        vertical-align: top;\n",
       "    }\n",
       "\n",
       "    .dataframe thead th {\n",
       "        text-align: right;\n",
       "    }\n",
       "</style>\n",
       "<table border=\"1\" class=\"dataframe\">\n",
       "  <thead>\n",
       "    <tr style=\"text-align: right;\">\n",
       "      <th></th>\n",
       "      <th>id</th>\n",
       "      <th>text</th>\n",
       "      <th>label</th>\n",
       "      <th>set</th>\n",
       "      <th>str_labels</th>\n",
       "      <th>len_text</th>\n",
       "    </tr>\n",
       "  </thead>\n",
       "  <tbody>\n",
       "    <tr>\n",
       "      <th>0</th>\n",
       "      <td>6615.0</td>\n",
       "      <td>Cholera Daily Situation Report as of 4 Novembe...</td>\n",
       "      <td>4.0</td>\n",
       "      <td>train</td>\n",
       "      <td>Health</td>\n",
       "      <td>683</td>\n",
       "    </tr>\n",
       "    <tr>\n",
       "      <th>1</th>\n",
       "      <td>659.0</td>\n",
       "      <td>12 321 people affected, five deaths, one perso...</td>\n",
       "      <td>10.0</td>\n",
       "      <td>train</td>\n",
       "      <td>Shelter</td>\n",
       "      <td>275</td>\n",
       "    </tr>\n",
       "    <tr>\n",
       "      <th>2</th>\n",
       "      <td>8591.0</td>\n",
       "      <td>Violent clashes and inter-communal tensions ha...</td>\n",
       "      <td>3.0</td>\n",
       "      <td>train</td>\n",
       "      <td>Food</td>\n",
       "      <td>276</td>\n",
       "    </tr>\n",
       "    <tr>\n",
       "      <th>3</th>\n",
       "      <td>8373.0</td>\n",
       "      <td>AT least 12 people have been killed and severa...</td>\n",
       "      <td>5.0</td>\n",
       "      <td>train</td>\n",
       "      <td>Livelihood</td>\n",
       "      <td>884</td>\n",
       "    </tr>\n",
       "    <tr>\n",
       "      <th>4</th>\n",
       "      <td>10125.0</td>\n",
       "      <td>Unidentified gunmen attacked a civilian home, ...</td>\n",
       "      <td>9.0</td>\n",
       "      <td>train</td>\n",
       "      <td>Protection</td>\n",
       "      <td>224</td>\n",
       "    </tr>\n",
       "    <tr>\n",
       "      <th>...</th>\n",
       "      <td>...</td>\n",
       "      <td>...</td>\n",
       "      <td>...</td>\n",
       "      <td>...</td>\n",
       "      <td>...</td>\n",
       "      <td>...</td>\n",
       "    </tr>\n",
       "    <tr>\n",
       "      <th>8395</th>\n",
       "      <td>528.0</td>\n",
       "      <td>Sandbag walls have failed to hold back the flo...</td>\n",
       "      <td>10.0</td>\n",
       "      <td>train</td>\n",
       "      <td>Shelter</td>\n",
       "      <td>1145</td>\n",
       "    </tr>\n",
       "    <tr>\n",
       "      <th>8396</th>\n",
       "      <td>2272.0</td>\n",
       "      <td>More than 8,000 displaced civilians have been ...</td>\n",
       "      <td>10.0</td>\n",
       "      <td>train</td>\n",
       "      <td>Shelter</td>\n",
       "      <td>709</td>\n",
       "    </tr>\n",
       "    <tr>\n",
       "      <th>8397</th>\n",
       "      <td>11493.0</td>\n",
       "      <td>Protection     Durable Solutions ? Most of the...</td>\n",
       "      <td>9.0</td>\n",
       "      <td>train</td>\n",
       "      <td>Protection</td>\n",
       "      <td>2575</td>\n",
       "    </tr>\n",
       "    <tr>\n",
       "      <th>8398</th>\n",
       "      <td>3816.0</td>\n",
       "      <td>She said access challenges have continued to d...</td>\n",
       "      <td>3.0</td>\n",
       "      <td>train</td>\n",
       "      <td>Food</td>\n",
       "      <td>233</td>\n",
       "    </tr>\n",
       "    <tr>\n",
       "      <th>8399</th>\n",
       "      <td>8018.0</td>\n",
       "      <td>About 65 percent of Yemeni households are esti...</td>\n",
       "      <td>3.0</td>\n",
       "      <td>train</td>\n",
       "      <td>Food</td>\n",
       "      <td>304</td>\n",
       "    </tr>\n",
       "  </tbody>\n",
       "</table>\n",
       "<p>8400 rows × 6 columns</p>\n",
       "</div>"
      ],
      "text/plain": [
       "           id                                               text  label  \\\n",
       "0      6615.0  Cholera Daily Situation Report as of 4 Novembe...    4.0   \n",
       "1       659.0  12 321 people affected, five deaths, one perso...   10.0   \n",
       "2      8591.0  Violent clashes and inter-communal tensions ha...    3.0   \n",
       "3      8373.0  AT least 12 people have been killed and severa...    5.0   \n",
       "4     10125.0  Unidentified gunmen attacked a civilian home, ...    9.0   \n",
       "...       ...                                                ...    ...   \n",
       "8395    528.0  Sandbag walls have failed to hold back the flo...   10.0   \n",
       "8396   2272.0  More than 8,000 displaced civilians have been ...   10.0   \n",
       "8397  11493.0  Protection     Durable Solutions ? Most of the...    9.0   \n",
       "8398   3816.0  She said access challenges have continued to d...    3.0   \n",
       "8399   8018.0  About 65 percent of Yemeni households are esti...    3.0   \n",
       "\n",
       "        set  str_labels  len_text  \n",
       "0     train      Health       683  \n",
       "1     train     Shelter       275  \n",
       "2     train        Food       276  \n",
       "3     train  Livelihood       884  \n",
       "4     train  Protection       224  \n",
       "...     ...         ...       ...  \n",
       "8395  train     Shelter      1145  \n",
       "8396  train     Shelter       709  \n",
       "8397  train  Protection      2575  \n",
       "8398  train        Food       233  \n",
       "8399  train        Food       304  \n",
       "\n",
       "[8400 rows x 6 columns]"
      ]
     },
     "execution_count": 173,
     "metadata": {},
     "output_type": "execute_result"
    }
   ],
   "source": [
    "df_small_data_sets[df_small_data_sets['set']=='train']"
   ]
  },
  {
   "cell_type": "code",
   "execution_count": 178,
   "metadata": {},
   "outputs": [
    {
     "data": {
      "image/png": "[encoded data removed]",
      "text/plain": [
       "<Figure size 1080x360 with 2 Axes>"
      ]
     },
     "metadata": {
      "needs_background": "light"
     },
     "output_type": "display_data"
    }
   ],
   "source": [
    "import warnings\n",
    "warnings.filterwarnings( \"ignore\", module = \"seaborn\\..*\" )\n",
    "x, y = \"len_text\", \"str_labels\"\n",
    "dtf = df_small_data_sets[df_small_data_sets['set']=='train']\n",
    "fig, ax = plt.subplots(nrows=1, ncols=2, figsize=(15, 5))\n",
    "fig.suptitle(\"len text in small dataset\", fontsize=12)\n",
    "for i in dtf[y].unique():\n",
    "    sns.distplot(dtf[dtf[y]==i][x], hist=True, kde=False,  bins=10, hist_kws={\"alpha\":0.9},  axlabel=x, ax=ax[0])\n",
    "    sns.kdeplot(dtf[dtf[y]==i][x], ax=ax[1], fill=True, common_norm=False, palette=\"crest\", alpha=.001, linewidth=1.3, log_scale=True)\n",
    "ax[0].grid(True)\n",
    "ax[1].grid(True)\n",
    "ax[0].legend(dtf[y].unique())\n",
    "ax[1].legend(dtf[y].unique())\n",
    "ax[0].set_xlim(0, 800)\n",
    "plt.show()"
   ]
  },
  {
   "cell_type": "code",
   "execution_count": 17,
   "metadata": {},
   "outputs": [],
   "source": [
    "\"\"\"Below are some funtions we will be using troughtout all tasks.\"\"\"\n",
    "\n",
    "UNK_TOKEN = '[UNK]'\n",
    "PAD_TOKEN = '[PAD]'\n",
    "\n",
    "class DocumentDataset(Dataset):\n",
    "    def __init__(self, path, tokenizer, document_length=300):\n",
    "        super().__init__()\n",
    "\n",
    "        self.document_length = document_length\n",
    "        self.documents = []\n",
    "        self.labels = []\n",
    "        self.path = path\n",
    "        self.tokenizer = tokenizer\n",
    "\n",
    "        with open(self.path, 'r', encoding='UTF8') as f:\n",
    "            lines = f.readlines()\n",
    "\n",
    "        for line in lines:\n",
    "            text, label = self.__preprocess_line(line)\n",
    "            self.documents.append(text)\n",
    "            self.labels.append(label)\n",
    "\n",
    "        self.classes = set(self.labels)\n",
    "\n",
    "    def __len__(self) -> int:\n",
    "        return len(self.labels)\n",
    "\n",
    "    def __getitem__(self, index: int) -> Tuple[Tensor, Tensor]:\n",
    "        if self.document_length > 0:\n",
    "            token_ids = torch.zeros(self.document_length) + self._tokenize_ids('[PAD]')[0]\n",
    "            document = self._tokenize_ids(self.documents[index])\n",
    "\n",
    "            if document.shape[0] > self.document_length:\n",
    "                document = document[:self.document_length]\n",
    "\n",
    "            token_ids[:document.shape[0]] = torch.from_numpy(document)\n",
    "        else:\n",
    "            token_ids = torch.from_numpy(self._tokenize_ids(self.documents[index]))\n",
    "\n",
    "        return token_ids, torch.from_numpy(np.array(self.labels[index]))\n",
    "\n",
    "    @staticmethod\n",
    "    def __preprocess_line(line) -> Tuple[str, int]:\n",
    "        line = line.split(',', 1)[1]\n",
    "        text, label = line.rsplit(',', 1)\n",
    "        return text.strip('\"'), int(label)\n",
    "\n",
    "    @property\n",
    "    def num_classes(self) -> int:\n",
    "        return len(self.classes)\n",
    "\n",
    "    def _tokenize_ids(self, text) -> np.ndarray:\n",
    "        return np.array(self.tokenizer.encode(text).ids)\n",
    "\n",
    "    def find_examples(self, model, k = 2, seed = 42) -> Tuple[List[int], List[int]]:\n",
    "        correct = []\n",
    "        misclassified = []\n",
    "\n",
    "        indices = np.arange(len(self))\n",
    "        np.random.seed(seed)\n",
    "        np.random.shuffle(indices)\n",
    "\n",
    "        for i in indices:\n",
    "            token_ids, label = self[i]\n",
    "            prediction = model.predict((token_ids.unsqueeze(0), Tensor([token_ids.shape[-1]]))).argmax()\n",
    "\n",
    "            if len(correct) < k and prediction.item() == label:\n",
    "                correct.append(i)\n",
    "            elif len(misclassified) < k:\n",
    "                misclassified.append(i)\n",
    "\n",
    "            if len(misclassified) == k and len(correct) == k:\n",
    "                break\n",
    "\n",
    "        return correct, misclassified\n",
    "    \n",
    "    \n",
    "def pad_collate(padding_value):\n",
    "    def collate_fn(batch: List[Tensor]):\n",
    "        inputs, targets = zip(*batch)\n",
    "        input_lengths = Tensor([len(x) for x in inputs])\n",
    "\n",
    "        inputs = pad_sequence(inputs, batch_first=True, padding_value=padding_value)\n",
    "        targets = torch.stack(targets)\n",
    "\n",
    "        return inputs, targets, input_lengths\n",
    "\n",
    "    return collate_fn\n",
    "\n",
    "\n",
    "def get_initial_embedding(path, tokenizer: Tokenizer, save_path= None) -> nn.Embedding:\n",
    "    if save_path is not None and os.path.exists(save_path):\n",
    "        weight = np.load(save_path)\n",
    "        embedding = nn.Embedding(weight.shape[0], weight.shape[1])\n",
    "        embedding.weight = nn.Parameter(torch.from_numpy(weight))\n",
    "        return embedding\n",
    "\n",
    "    pre_trained = pd.read_csv(path, sep=\" \", quoting=3, header=None, index_col=0)\n",
    "    embedding_size = pre_trained.shape[1]\n",
    "    embedding_weigths = torch.zeros(tokenizer.get_vocab_size(), embedding_size)\n",
    "\n",
    "    not_contained = 0\n",
    "    for word, index in tqdm(tokenizer.get_vocab().items()):\n",
    "        if word in pre_trained.index:\n",
    "            embedding_weigths[index] = torch.from_numpy(np.array(pre_trained.loc[word]))\n",
    "        else:\n",
    "            not_contained += 1\n",
    "            embedding_weigths[index] = torch.rand(embedding_size)\n",
    "\n",
    "    if save_path is not None:\n",
    "        np.save(save_path, embedding_weigths.detach().numpy())\n",
    "\n",
    "    print(f'Initialized {not_contained} token(s) randomly as they are not part of the pre-trained embeddings.')\n",
    "\n",
    "    embedding = nn.Embedding(embedding_weigths.shape[0], embedding_weigths.shape[1])\n",
    "    embedding.weight = nn.Parameter(embedding_weigths)\n",
    "\n",
    "    return embedding\n",
    "\n",
    "\n",
    "def accuracy():\n",
    "    def metric(y_hat: np.ndarray, y: np.ndarray) -> float:\n",
    "        return (y_hat.argmax(-1) == y).sum() / y_hat.shape[0]\n",
    "\n",
    "    return metric\n",
    "\n",
    "\n",
    "def train_and_evaluate(model, optimizer, train_loader, val_loader, test_loader, logger):\n",
    "    model.fit(\n",
    "        train_loader=train_loader,\n",
    "        val_loader=val_loader,\n",
    "        optimizer=optimizer,\n",
    "        logger=logger,\n",
    "        validation_metrics={\n",
    "            'accuracy': accuracy()\n",
    "        }\n",
    "    )\n",
    "\n",
    "    _, metrics = model.evaluate(loader=test_loader, metrics={'accuracy': accuracy()})\n",
    "\n",
    "    return metrics['accuracy']    \n",
    "\n",
    "\n",
    "def get_tokenizer(data=None, data_path=None, save_path=None, vocab_size=25_000) -> Tokenizer:\n",
    "    if save_path is not None and os.path.exists(save_path):\n",
    "        tokenizer = Tokenizer.from_file(save_path)\n",
    "        print(f'Loaded tokenizer. Vocabulary size: {tokenizer.get_vocab_size()}.')\n",
    "        return tokenizer\n",
    "\n",
    "    if data is None:\n",
    "        data = []\n",
    "\n",
    "        with open(data_path, 'r', encoding='UTF8') as f:\n",
    "            for line in f.readlines():\n",
    "                line = line.split(',', 1)[1]\n",
    "                text = line.rsplit(',', 1)[0].strip('\"')\n",
    "                data.append(text)\n",
    "\n",
    "    tokenizer = Tokenizer(WordPiece(vocab={UNK_TOKEN: 1}, unk_token=UNK_TOKEN))\n",
    "\n",
    "    tokenizer.normalizer = Sequence([NFKC(), BertNormalizer()])\n",
    "    tokenizer.pre_tokenizer = BertPreTokenizer()\n",
    "    tokenizer.decoder = WordPieceDecoder()\n",
    "\n",
    "    trainer = WordPieceTrainer(vocab_size=vocab_size, show_progress=True, special_tokens=[UNK_TOKEN, PAD_TOKEN])\n",
    "    tokenizer.train_from_iterator(data, trainer=trainer)\n",
    "\n",
    "    if save_path is not None:\n",
    "        tokenizer.save(save_path)\n",
    "\n",
    "    print(f'Trained tokenizer. Vocabulary size: {tokenizer.get_vocab_size()}.')\n",
    "\n",
    "    return tokenizer\n",
    "\n",
    "\n",
    "def get_loaders(root_data, name_dataset_size, batch_size, tokenizer, document_length=-1):\n",
    "    train_set = DocumentDataset(\n",
    "        path=f'{root_data}.{name_dataset_size}.train.txt',\n",
    "        tokenizer=tokenizer,\n",
    "        document_length=document_length,\n",
    "    )\n",
    "    train_loader = DataLoader(train_set, batch_size=batch_size,\n",
    "                              collate_fn=pad_collate(tokenizer.token_to_id(PAD_TOKEN)))\n",
    "    val_set = DocumentDataset(\n",
    "        path=f'{root_data}.{name_dataset_size}.validation.txt',\n",
    "        tokenizer=tokenizer,\n",
    "        document_length=document_length\n",
    "    )\n",
    "    val_loader = DataLoader(val_set, batch_size=batch_size, collate_fn=pad_collate(tokenizer.token_to_id(PAD_TOKEN)))\n",
    "    test_set = DocumentDataset(\n",
    "        path=f'{root_data}.{name_dataset_size}.test.txt',\n",
    "        tokenizer=tokenizer,\n",
    "        document_length=document_length\n",
    "    )\n",
    "    test_loader = DataLoader(test_set, batch_size=batch_size, collate_fn=pad_collate(tokenizer.token_to_id(PAD_TOKEN)))\n",
    "\n",
    "    return train_loader, val_loader, test_loader"
   ]
  },
  {
   "cell_type": "code",
   "execution_count": null,
   "metadata": {},
   "outputs": [],
   "source": [
    "class ModelInCommon(nn.Module):\n",
    "    def __init__(self):\n",
    "        super().__init__()\n",
    "\n",
    "    def run_backbone(self, inputs: Tensor, input_lengths: Tensor) -> Tensor:\n",
    "        if self.backbone is not None:\n",
    "            embedded = pack_padded_sequence(input=inputs, lengths=input_lengths, batch_first=True, enforce_sorted=False)\n",
    "            output, _ = self.backbone(embedded)\n",
    "            output, _ = pad_packed_sequence(output, batch_first=True)\n",
    "            assert output.shape == (*inputs.shape[:2], self.hidden_size)\n",
    "        else:\n",
    "            output = inputs\n",
    "\n",
    "        return output\n",
    "\n",
    "    def generate_padding_mask(self, batch_size: int, sequence_length: int, input_lengths: Tensor) -> Tensor:\n",
    "        mask = torch.zeros(batch_size, sequence_length).bool()\n",
    "        for i, input_length in enumerate(input_lengths):\n",
    "            mask[i, int(input_length):] = True\n",
    "        return mask\n",
    "\n",
    "    @property\n",
    "    def device(self) -> torch.device:\n",
    "        return self.embedding.weight.device\n",
    "\n",
    "    def fit(self, train_loader, val_loader, optimizer, logger, validation_metrics: Union[dict, None] = None):\n",
    "        if validation_metrics is None:\n",
    "            validation_metrics = {}\n",
    "\n",
    "        initial_loss, initial_accuracy = self.evaluate(loader=val_loader, metrics=validation_metrics)\n",
    "        logger.add_scalar(\"validation_loss\", initial_loss, 0)\n",
    "        logger.add_scalar(\"validation_accuracy\", initial_accuracy['accuracy'], 0)\n",
    "\n",
    "        for epoch in tqdm(range(1, self.epochs)):\n",
    "            average_loss_epoch = self.__step(train_loader, optimizer)\n",
    "            validation_loss, val_accuracy = self.evaluate(loader=val_loader, metrics=validation_metrics)\n",
    "\n",
    "            logger.add_scalar(\"training_epochs_loss\", average_loss_epoch, epoch - 1)\n",
    "            logger.add_scalar(\"validation_loss\", validation_loss, epoch)\n",
    "            logger.add_scalar(\"validation_accuracy\", val_accuracy['accuracy'], epoch)\n",
    "            print(f\"done epoch {epoch} accuracy | {val_accuracy['accuracy']}.\")\n",
    "\n",
    "            # if self.early_stopping(validation_loss): # TODO remember to put it back\n",
    "            #     break\n",
    "\n",
    "    def __step(self, data_loader, optimizer) -> float:\n",
    "        self.train()\n",
    "        average_loss = 0.\n",
    "\n",
    "        for i, batch in enumerate(data_loader):\n",
    "            inputs, targets = self.__unpack_batch(batch)\n",
    "            optimizer.zero_grad()\n",
    "            loss, _ = self._calculate_loss(inputs, targets)\n",
    "            loss.backward()\n",
    "            optimizer.step()\n",
    "            loss = loss.item()\n",
    "            average_loss += (loss - average_loss) / (i + 1)\n",
    "\n",
    "        return average_loss\n",
    "\n",
    "    @torch.no_grad()\n",
    "    def evaluate(self, loader, metrics: dict) -> Tuple[float, dict]:\n",
    "        self.eval()\n",
    "\n",
    "        average_loss = 0.\n",
    "        predictions = None\n",
    "        targets = None\n",
    "\n",
    "        for i, batch in enumerate(loader):\n",
    "            x, y = self.__unpack_batch(batch)\n",
    "\n",
    "            loss, y_hat = self._calculate_loss(x, y)\n",
    "            average_loss += (loss.item() - average_loss) / (i + 1)\n",
    "\n",
    "            if predictions is None:\n",
    "                predictions = y_hat.cpu().numpy()\n",
    "                targets = y.numpy()\n",
    "            else:\n",
    "                predictions = np.concatenate((predictions, y_hat.cpu().numpy()))\n",
    "                targets = np.concatenate((targets, y.numpy()))\n",
    "\n",
    "        metric_values = {name: metric(predictions, targets) for name, metric in metrics.items()}\n",
    "\n",
    "        return average_loss, metric_values\n",
    "\n",
    "    @staticmethod\n",
    "    def __unpack_batch(batch: List) -> Tuple[Union[Tuple, Tensor], Tensor]:\n",
    "        if len(batch) == 3:  # padded sequence\n",
    "            inputs, targets, input_lengths = batch\n",
    "            inputs = (inputs, input_lengths)\n",
    "        else:\n",
    "            inputs, targets = batch\n",
    "\n",
    "        return inputs, targets\n",
    "\n",
    "    def _calculate_loss(self, inputs: Tuple[Tensor, Tensor], targets: Tensor) -> Tuple[Tensor, Tensor]:\n",
    "        logits, _ = self(inputs)\n",
    "        return F.cross_entropy(logits, targets.long().to(self.device)), logits\n",
    "\n",
    "    def predict(self, x: Tuple[Tensor, Tensor]) -> Tensor:\n",
    "        logits, _ = self(x)\n",
    "        return torch.softmax(logits, dim=-1)\n",
    "\n",
    "    def resume_from_checkpoint(self, path: Union[Path, str]):\n",
    "        self.load_state_dict(torch.load(path, map_location=self.device))\n",
    "\n",
    "    def early_stopping(self, curr_validation_accuracy):\n",
    "        \"\"\"\n",
    "        Stops the training if validation accuracy doesn't improve after a given patience.\n",
    "        \"\"\"\n",
    "\n",
    "        if self.best_accuracy_so_far is None:\n",
    "            self.counter = 0\n",
    "            self.best_accuracy_so_far = curr_validation_accuracy\n",
    "            torch.save(self.state_dict(), f\"{self.checkpoint_path}{self.attention_type}..best.pth\")\n",
    "\n",
    "        elif curr_validation_accuracy < self.best_accuracy_so_far + self.delta:\n",
    "            self.counter += 1\n",
    "            print(f'EarlyStopper counter: {self.counter} out of {self.patience}')\n",
    "            if self.counter >= self.patience:\n",
    "                print(\"early stopping triggered. training stopped.\")\n",
    "                return True\n",
    "        else:\n",
    "            print(f'Val acc increased ({self.best_accuracy_so_far:.6f} --> {curr_validation_accuracy:.6f}),model saved')\n",
    "            self.best_accuracy_so_far = curr_validation_accuracy\n",
    "            torch.save(self.state_dict(), f\"{self.checkpoint_path}{self.attention_type}.best.pth\")\n",
    "            self.counter = 0\n",
    "\n",
    "        return False"
   ]
  },
  {
   "cell_type": "markdown",
   "metadata": {},
   "source": [
    "### Implementing the ClassificationAttentionModel"
   ]
  },
  {
   "cell_type": "code",
   "execution_count": 4,
   "metadata": {},
   "outputs": [],
   "source": [
    "class ClassificationAttentionModel(ModelInCommon):\n",
    "    def __init__(\n",
    "            self,\n",
    "            embedding_weights: Tensor,\n",
    "            batch_size: 32,\n",
    "            num_classes=12,\n",
    "            hidden_size: int = 512,\n",
    "            num_layers: int = 2,\n",
    "            dropout: float = .5,\n",
    "            freeze_embeddings: bool = False,\n",
    "            attention_type: str = 'dot',\n",
    "            epochs=10,\n",
    "            patience=5,\n",
    "            checkpoint_path=None\n",
    "    ):\n",
    "        \"\"\"\n",
    "        :attention_type: can be either 'dot' or 'additive'\n",
    "        \"\"\"\n",
    "        super().__init__()\n",
    "\n",
    "        self.batch_size = batch_size\n",
    "        self.epochs = epochs\n",
    "        self.patience = patience\n",
    "        self.best_accuracy_so_far = None\n",
    "        self.delta = 0.0\n",
    "        self.counter = 0\n",
    "        self.attention_type = attention_type\n",
    "        self.checkpoint_path = checkpoint_path\n",
    "\n",
    "        self.vocab_size, self.embedding_size = embedding_weights.shape\n",
    "        self.embedding = nn.Embedding(self.vocab_size, self.embedding_size)\n",
    "        self.embedding.weight = nn.Parameter(embedding_weights, requires_grad=not freeze_embeddings)\n",
    "\n",
    "        if hidden_size > 0:\n",
    "            self.backbone = nn.LSTM(\n",
    "                input_size=self.embedding_size,\n",
    "                hidden_size=hidden_size,\n",
    "                num_layers=num_layers,\n",
    "                batch_first=True,\n",
    "                dropout=dropout,\n",
    "                bidirectional=True\n",
    "            )\n",
    "\n",
    "            self.hidden_size = hidden_size * 2\n",
    "        else:\n",
    "            self.backbone = None\n",
    "            self.hidden_size = self.embedding_size\n",
    "\n",
    "        single_head_attention_methods = {\n",
    "            'dot': self.dot_product_attention,\n",
    "            'additive': self.additive_attention,\n",
    "            'multiplicative': self.multiplicative_attention\n",
    "        }\n",
    "        self.calculate_attention_weights = single_head_attention_methods[self.attention_type]\n",
    "        self.query_dim = self.hidden_size\n",
    "\n",
    "        self.query = nn.Parameter(torch.randn(size=(1, 1, self.query_dim)))\n",
    "        self.scale = 1.0 / np.sqrt(self.query_dim)\n",
    "\n",
    "        if attention_type == 'additive':\n",
    "            self.W_queries = nn.Linear(self.query_dim, self.query_dim, bias=False)\n",
    "            self.W_values = nn.Linear(self.query_dim, self.query_dim, bias=False)\n",
    "            self.u = nn.Parameter(torch.randn(1, self.query_dim, 1))\n",
    "\n",
    "        elif attention_type == 'multiplicative':\n",
    "            self.W = nn.Parameter(torch.randn(self.query_dim, self.query_dim))\n",
    "\n",
    "        self.linear = nn.Linear(self.hidden_size, num_classes)\n",
    "\n",
    "    def forward(self, inputs: Tuple[Tensor, Tensor]) -> Tuple[Tensor, Tensor]:\n",
    "        inputs, input_lengths = inputs\n",
    "        batch_size, sequence_length = inputs.shape\n",
    "\n",
    "        embedded_input = self.embedding(inputs.long().to(self.device))\n",
    "        assert embedded_input.shape == (batch_size, sequence_length, self.embedding_size)\n",
    "\n",
    "        output = self.run_backbone(embedded_input, input_lengths)\n",
    "        assert output.shape == (batch_size, sequence_length, self.hidden_size)\n",
    "\n",
    "        padding_mask = self.generate_padding_mask(batch_size, sequence_length, input_lengths).to(self.device)\n",
    "        assert padding_mask.shape == (batch_size, sequence_length)\n",
    "\n",
    "        queries = self.query.repeat(batch_size, 1, 1)\n",
    "        assert queries.shape == (batch_size, 1, self.query_dim)\n",
    "        attention_weights = self.calculate_attention_weights(queries, output) * self.scale\n",
    "        attention_weights = attention_weights.masked_fill(padding_mask.unsqueeze(1), float('-inf'))\n",
    "        normed_attention_weights = F.softmax(attention_weights, dim=-1)\n",
    "        assert normed_attention_weights.shape == (batch_size, 1, sequence_length)\n",
    "        output = (normed_attention_weights @ output).squeeze(1)\n",
    "\n",
    "        return self.linear(output.squeeze(1)), normed_attention_weights\n",
    "\n",
    "    def dot_product_attention(self, queries, values) -> Tensor:\n",
    "        attention_weights = queries @ values.permute(0, 2, 1)\n",
    "        return attention_weights\n",
    "\n",
    "    def multiplicative_attention(self, queries, values) -> Tensor:\n",
    "        return queries @ self.W @ values.permute(0, 2, 1)\n",
    "\n",
    "    def additive_attention(self, queries, values) -> Tensor:\n",
    "        batch_size, sequence_length, _ = values.shape\n",
    "        queries = queries.repeat(1, sequence_length, 1)\n",
    "        assert queries.shape == (batch_size, sequence_length, self.hidden_size)\n",
    "        output = (torch.tanh(self.W_queries(queries) + self.W_values(values)) @ self.u).permute(0, 2, 1)\n",
    "        assert output.shape == (batch_size, 1, sequence_length)\n",
    "        return output"
   ]
  },
  {
   "cell_type": "markdown",
   "metadata": {},
   "source": [
    "# Train the baseline and its variations"
   ]
  },
  {
   "cell_type": "code",
   "execution_count": 7,
   "metadata": {},
   "outputs": [
    {
     "name": "stdout",
     "output_type": "stream",
     "text": [
      "home: /home/ionelia\n",
      "device: cuda\n"
     ]
    }
   ],
   "source": [
    "import getpass\n",
    "whoami = getpass.getuser()\n",
    "home = str(Path.home())\n",
    "print(\"home:\", home)\n",
    "\n",
    "if whoami == 'ionelia':\n",
    "    root_data = \"/home/ionelia/pycharm-projects/NLPwDL/assignment#2/data/nlpwdl2021_data/thedeep\"\n",
    "    glove_path = f\"{home}/pycharm-projects/NLPwDL/assignment#2/local/nlp_experiments/experiments2/glove/glove.840B\" \\\n",
    "                     f\".300d.txt\"\n",
    "    embedding_save_path = f\"{home}/pycharm-projects/NLPwDL/assignment#2/local/nlp_experiments/experiments2\" \\\n",
    "                          f\"/initial_embedding.npy\"\n",
    "    tokenizer_save_path = 'tokenizer.json'\n",
    "    checkpoint_path = \"./checkpoints/\"\n",
    "elif whoami == 'ceasar':\n",
    "    pass\n",
    "\n",
    "os.makedirs(checkpoint_path, exist_ok=True)\n",
    "\n",
    "device = torch.device('cuda' if torch.cuda.is_available() else 'cpu')\n",
    "print(\"device:\", device)"
   ]
  },
  {
   "cell_type": "code",
   "execution_count": 76,
   "metadata": {},
   "outputs": [
    {
     "name": "stdout",
     "output_type": "stream",
     "text": [
      "Loaded tokenizer. Vocabulary size: 25000.\n"
     ]
    }
   ],
   "source": [
    "name_dataset_size = \"small\"\n",
    "\n",
    "## hyperparameters\n",
    "batch_size = 64\n",
    "document_length = -1\n",
    "epochs = 50\n",
    "\n",
    "tokenizer = get_tokenizer(data_path=f'{root_data}.{name_dataset_size}.train.txt', save_path=tokenizer_save_path)\n",
    "embedding = get_initial_embedding(path=glove_path, tokenizer=tokenizer, save_path=embedding_save_path)\n",
    "train_loader, val_loader, test_loader = get_loaders(root_data, name_dataset_size, batch_size, tokenizer, document_length=document_length)\n",
    "\n",
    "# optimizer = Adam(model.parameters(), lr=lr, weight_decay=weight_decay)\n",
    "# optimizer = torch.optim.SGD(model.parameters(), lr=lr, momentum=momentum)"
   ]
  },
  {
   "cell_type": "markdown",
   "metadata": {},
   "source": [
    "## 1. Run `ClassificationAttentionModel` all with dot product attention type."
   ]
  },
  {
   "cell_type": "code",
   "execution_count": 6,
   "metadata": {
    "scrolled": true,
    "tags": []
   },
   "outputs": [
    {
     "name": "stderr",
     "output_type": "stream",
     "text": [
      "  2%|██████▍                                                                                                                                                                                                                                                                                                                      | 1/49 [00:31<25:31, 31.91s/it]"
     ]
    },
    {
     "name": "stdout",
     "output_type": "stream",
     "text": [
      "done epoch 1 accuracy | 0.39555555555555555.\n"
     ]
    },
    {
     "name": "stderr",
     "output_type": "stream",
     "text": [
      "  4%|████████████▉                                                                                                                                                                                                                                                                                                                | 2/49 [01:05<25:38, 32.74s/it]"
     ]
    },
    {
     "name": "stdout",
     "output_type": "stream",
     "text": [
      "done epoch 2 accuracy | 0.5172222222222222.\n",
      "EarlyStopper counter: 1 out of 10\n"
     ]
    },
    {
     "name": "stderr",
     "output_type": "stream",
     "text": [
      "  6%|███████████████████▍                                                                                                                                                                                                                                                                                                         | 3/49 [01:38<25:22, 33.09s/it]"
     ]
    },
    {
     "name": "stdout",
     "output_type": "stream",
     "text": [
      "done epoch 3 accuracy | 0.5794444444444444.\n",
      "EarlyStopper counter: 2 out of 10\n"
     ]
    },
    {
     "name": "stderr",
     "output_type": "stream",
     "text": [
      "  8%|█████████████████████████▉                                                                                                                                                                                                                                                                                                   | 4/49 [02:11<24:41, 32.93s/it]"
     ]
    },
    {
     "name": "stdout",
     "output_type": "stream",
     "text": [
      "done epoch 4 accuracy | 0.6172222222222222.\n",
      "EarlyStopper counter: 3 out of 10\n"
     ]
    },
    {
     "name": "stderr",
     "output_type": "stream",
     "text": [
      " 10%|████████████████████████████████▎                                                                                                                                                                                                                                                                                            | 5/49 [02:43<24:00, 32.74s/it]"
     ]
    },
    {
     "name": "stdout",
     "output_type": "stream",
     "text": [
      "done epoch 5 accuracy | 0.6294444444444445.\n",
      "EarlyStopper counter: 4 out of 10\n"
     ]
    },
    {
     "name": "stderr",
     "output_type": "stream",
     "text": [
      " 12%|██████████████████████████████████████▊                                                                                                                                                                                                                                                                                      | 6/49 [03:16<23:24, 32.66s/it]"
     ]
    },
    {
     "name": "stdout",
     "output_type": "stream",
     "text": [
      "done epoch 6 accuracy | 0.6316666666666667.\n",
      "EarlyStopper counter: 5 out of 10\n"
     ]
    },
    {
     "name": "stderr",
     "output_type": "stream",
     "text": [
      " 14%|█████████████████████████████████████████████▎                                                                                                                                                                                                                                                                               | 7/49 [03:49<22:55, 32.74s/it]"
     ]
    },
    {
     "name": "stdout",
     "output_type": "stream",
     "text": [
      "done epoch 7 accuracy | 0.6122222222222222.\n",
      "EarlyStopper counter: 6 out of 10\n"
     ]
    },
    {
     "name": "stderr",
     "output_type": "stream",
     "text": [
      " 16%|███████████████████████████████████████████████████▊                                                                                                                                                                                                                                                                         | 8/49 [04:21<22:11, 32.48s/it]"
     ]
    },
    {
     "name": "stdout",
     "output_type": "stream",
     "text": [
      "done epoch 8 accuracy | 0.6155555555555555.\n",
      "EarlyStopper counter: 7 out of 10\n"
     ]
    },
    {
     "name": "stderr",
     "output_type": "stream",
     "text": [
      " 18%|██████████████████████████████████████████████████████████▏                                                                                                                                                                                                                                                                  | 9/49 [04:53<21:31, 32.30s/it]"
     ]
    },
    {
     "name": "stdout",
     "output_type": "stream",
     "text": [
      "done epoch 9 accuracy | 0.6066666666666667.\n",
      "EarlyStopper counter: 8 out of 10\n"
     ]
    },
    {
     "name": "stderr",
     "output_type": "stream",
     "text": [
      " 20%|████████████████████████████████████████████████████████████████▍                                                                                                                                                                                                                                                           | 10/49 [05:25<20:57, 32.24s/it]"
     ]
    },
    {
     "name": "stdout",
     "output_type": "stream",
     "text": [
      "done epoch 10 accuracy | 0.6216666666666667.\n",
      "EarlyStopper counter: 9 out of 10\n"
     ]
    },
    {
     "name": "stderr",
     "output_type": "stream",
     "text": [
      " 20%|████████████████████████████████████████████████████████████████▍                                                                                                                                                                                                                                                           | 10/49 [05:57<23:13, 35.72s/it]"
     ]
    },
    {
     "name": "stdout",
     "output_type": "stream",
     "text": [
      "done epoch 11 accuracy | 0.6238888888888889.\n",
      "EarlyStopper counter: 10 out of 10\n",
      "early stopping triggered. training stopped and model is saved.\n"
     ]
    },
    {
     "name": "stderr",
     "output_type": "stream",
     "text": [
      "\n"
     ]
    },
    {
     "name": "stdout",
     "output_type": "stream",
     "text": [
      "Test accuracy: 0.6327777777777778.\n"
     ]
    }
   ],
   "source": [
    "hidden_size = 512\n",
    "lr = 0.035\n",
    "attention = \"dot\"\n",
    "\n",
    "model_dot_product = ClassificationAttentionModel(\n",
    "    embedding.weight.clone(),\n",
    "    attention_type=attention,\n",
    "    hidden_size=hidden_size,\n",
    "    batch_size=batch_size,\n",
    "    checkpoint_path=checkpoint_path,\n",
    "    epochs=epochs\n",
    ").to(device)\n",
    "writer = SummaryWriter(comment=\"(small)BaselineAttentionModel dot-product attention type variation\")\n",
    "optimizer = torch.optim.SGD(model_dot_product.parameters(), lr=lr, momentum=0.95)\n",
    "test_acc = train_and_evaluate(model_dot_product, optimizer, train_loader, val_loader, test_loader, writer)\n",
    "print(f'Test accuracy: {test_acc}.')"
   ]
  },
  {
   "cell_type": "markdown",
   "metadata": {},
   "source": [
    "## 2. Train `ClassificationAttentionModel` **without RNA** layer."
   ]
  },
  {
   "cell_type": "code",
   "execution_count": 8,
   "metadata": {
    "scrolled": true,
    "tags": []
   },
   "outputs": [
    {
     "name": "stderr",
     "output_type": "stream",
     "text": [
      "  2%|██████▍                                                                                                                                                                                                                                                                                                                      | 1/49 [00:02<02:03,  2.57s/it]"
     ]
    },
    {
     "name": "stdout",
     "output_type": "stream",
     "text": [
      "done epoch 1 accuracy | 0.49833333333333335.\n"
     ]
    },
    {
     "name": "stderr",
     "output_type": "stream",
     "text": [
      "  4%|████████████▉                                                                                                                                                                                                                                                                                                                | 2/49 [00:05<02:00,  2.55s/it]"
     ]
    },
    {
     "name": "stdout",
     "output_type": "stream",
     "text": [
      "done epoch 2 accuracy | 0.5983333333333334.\n",
      "EarlyStopper counter: 1 out of 10\n"
     ]
    },
    {
     "name": "stderr",
     "output_type": "stream",
     "text": [
      "  6%|███████████████████▍                                                                                                                                                                                                                                                                                                         | 3/49 [00:07<01:57,  2.55s/it]"
     ]
    },
    {
     "name": "stdout",
     "output_type": "stream",
     "text": [
      "done epoch 3 accuracy | 0.6255555555555555.\n",
      "EarlyStopper counter: 2 out of 10\n"
     ]
    },
    {
     "name": "stderr",
     "output_type": "stream",
     "text": [
      "  8%|█████████████████████████▉                                                                                                                                                                                                                                                                                                   | 4/49 [00:10<01:54,  2.54s/it]"
     ]
    },
    {
     "name": "stdout",
     "output_type": "stream",
     "text": [
      "done epoch 4 accuracy | 0.6311111111111111.\n",
      "EarlyStopper counter: 3 out of 10\n"
     ]
    },
    {
     "name": "stderr",
     "output_type": "stream",
     "text": [
      " 10%|████████████████████████████████▎                                                                                                                                                                                                                                                                                            | 5/49 [00:12<01:51,  2.54s/it]"
     ]
    },
    {
     "name": "stdout",
     "output_type": "stream",
     "text": [
      "done epoch 5 accuracy | 0.6377777777777778.\n",
      "EarlyStopper counter: 4 out of 10\n"
     ]
    },
    {
     "name": "stderr",
     "output_type": "stream",
     "text": [
      " 12%|██████████████████████████████████████▊                                                                                                                                                                                                                                                                                      | 6/49 [00:15<01:49,  2.54s/it]"
     ]
    },
    {
     "name": "stdout",
     "output_type": "stream",
     "text": [
      "done epoch 6 accuracy | 0.6383333333333333.\n",
      "EarlyStopper counter: 5 out of 10\n"
     ]
    },
    {
     "name": "stderr",
     "output_type": "stream",
     "text": [
      " 14%|█████████████████████████████████████████████▎                                                                                                                                                                                                                                                                               | 7/49 [00:17<01:46,  2.54s/it]"
     ]
    },
    {
     "name": "stdout",
     "output_type": "stream",
     "text": [
      "done epoch 7 accuracy | 0.6411111111111111.\n",
      "EarlyStopper counter: 6 out of 10\n"
     ]
    },
    {
     "name": "stderr",
     "output_type": "stream",
     "text": [
      " 16%|███████████████████████████████████████████████████▊                                                                                                                                                                                                                                                                         | 8/49 [00:20<01:44,  2.54s/it]"
     ]
    },
    {
     "name": "stdout",
     "output_type": "stream",
     "text": [
      "done epoch 8 accuracy | 0.64.\n",
      "EarlyStopper counter: 7 out of 10\n"
     ]
    },
    {
     "name": "stderr",
     "output_type": "stream",
     "text": [
      " 18%|██████████████████████████████████████████████████████████▏                                                                                                                                                                                                                                                                  | 9/49 [00:22<01:41,  2.55s/it]"
     ]
    },
    {
     "name": "stdout",
     "output_type": "stream",
     "text": [
      "done epoch 9 accuracy | 0.6405555555555555.\n",
      "EarlyStopper counter: 8 out of 10\n"
     ]
    },
    {
     "name": "stderr",
     "output_type": "stream",
     "text": [
      " 20%|████████████████████████████████████████████████████████████████▍                                                                                                                                                                                                                                                           | 10/49 [00:25<01:39,  2.56s/it]"
     ]
    },
    {
     "name": "stdout",
     "output_type": "stream",
     "text": [
      "done epoch 10 accuracy | 0.6416666666666667.\n",
      "EarlyStopper counter: 9 out of 10\n"
     ]
    },
    {
     "name": "stderr",
     "output_type": "stream",
     "text": [
      " 20%|████████████████████████████████████████████████████████████████▍                                                                                                                                                                                                                                                           | 10/49 [00:28<01:49,  2.81s/it]"
     ]
    },
    {
     "name": "stdout",
     "output_type": "stream",
     "text": [
      "done epoch 11 accuracy | 0.6416666666666667.\n",
      "EarlyStopper counter: 10 out of 10\n",
      "early stopping triggered. training stopped and model is saved.\n"
     ]
    },
    {
     "name": "stderr",
     "output_type": "stream",
     "text": [
      "\n"
     ]
    }
   ],
   "source": [
    "hidden_size = -1  # here `-1` won't load the lstm layer\n",
    "lr = 0.035 \n",
    "attention = \"dot\"\n",
    "epochs = 50\n",
    "\n",
    "model_no_rna = ClassificationAttentionModel(\n",
    "    embedding.weight.clone(),\n",
    "    attention_type=attention,\n",
    "    hidden_size=hidden_size,\n",
    "    batch_size=batch_size,\n",
    "    checkpoint_path=checkpoint_path,\n",
    "    epochs=epochs,\n",
    "    model_name_siffix=\"no_rna_small\"\n",
    ").to(device)\n",
    "writer = SummaryWriter(comment=\"(small)BaselineAttentionModel no RNA layer variation\")\n",
    "# optimizer = Adam(model.parameters(), lr=lr, weight_decay=0.2)\n",
    "optimizer = torch.optim.SGD(model_no_rna.parameters(), lr=lr, momentum=0.95)\n",
    "test_acc = train_and_evaluate(model_no_rna, optimizer, train_loader, val_loader, test_loader, writer)"
   ]
  },
  {
   "cell_type": "code",
   "execution_count": 11,
   "metadata": {},
   "outputs": [
    {
     "name": "stdout",
     "output_type": "stream",
     "text": [
      "0.6394444444444445\n"
     ]
    }
   ],
   "source": [
    "print(test_acc)"
   ]
  },
  {
   "cell_type": "markdown",
   "metadata": {},
   "source": [
    "## 3. Train `ClassificationAttentionModel` with the **additive** attention type."
   ]
  },
  {
   "cell_type": "code",
   "execution_count": 35,
   "metadata": {
    "scrolled": true,
    "tags": []
   },
   "outputs": [
    {
     "name": "stderr",
     "output_type": "stream",
     "text": [
      "  2%|██████▍                                                                                                                                                                                                                                                                                                                      | 1/49 [00:38<30:43, 38.41s/it]"
     ]
    },
    {
     "name": "stdout",
     "output_type": "stream",
     "text": [
      "done epoch 1 accuracy | 0.4077777777777778.\n"
     ]
    },
    {
     "name": "stderr",
     "output_type": "stream",
     "text": [
      "  4%|████████████▉                                                                                                                                                                                                                                                                                                                | 2/49 [01:16<30:05, 38.42s/it]"
     ]
    },
    {
     "name": "stdout",
     "output_type": "stream",
     "text": [
      "done epoch 2 accuracy | 0.5383333333333333.\n",
      "EarlyStopper counter: 1 out of 5\n"
     ]
    },
    {
     "name": "stderr",
     "output_type": "stream",
     "text": [
      "  6%|███████████████████▍                                                                                                                                                                                                                                                                                                         | 3/49 [01:55<29:30, 38.49s/it]"
     ]
    },
    {
     "name": "stdout",
     "output_type": "stream",
     "text": [
      "done epoch 3 accuracy | 0.5944444444444444.\n",
      "EarlyStopper counter: 2 out of 5\n"
     ]
    },
    {
     "name": "stderr",
     "output_type": "stream",
     "text": [
      "  8%|█████████████████████████▉                                                                                                                                                                                                                                                                                                   | 4/49 [02:34<29:01, 38.69s/it]"
     ]
    },
    {
     "name": "stdout",
     "output_type": "stream",
     "text": [
      "done epoch 4 accuracy | 0.5988888888888889.\n",
      "EarlyStopper counter: 3 out of 5\n"
     ]
    },
    {
     "name": "stderr",
     "output_type": "stream",
     "text": [
      " 10%|████████████████████████████████▎                                                                                                                                                                                                                                                                                            | 5/49 [03:13<28:26, 38.79s/it]"
     ]
    },
    {
     "name": "stdout",
     "output_type": "stream",
     "text": [
      "done epoch 5 accuracy | 0.6166666666666667.\n",
      "EarlyStopper counter: 4 out of 5\n"
     ]
    },
    {
     "name": "stderr",
     "output_type": "stream",
     "text": [
      " 10%|████████████████████████████████▎                                                                                                                                                                                                                                                                                            | 5/49 [03:52<34:06, 46.51s/it]"
     ]
    },
    {
     "name": "stdout",
     "output_type": "stream",
     "text": [
      "done epoch 6 accuracy | 0.62.\n",
      "EarlyStopper counter: 5 out of 5\n",
      "early stopping triggered. training stopped and model is saved.\n"
     ]
    },
    {
     "name": "stderr",
     "output_type": "stream",
     "text": [
      "\n"
     ]
    },
    {
     "name": "stdout",
     "output_type": "stream",
     "text": [
      "Test accuracy: 0.6272\n"
     ]
    }
   ],
   "source": [
    "hidden_size = 512\n",
    "lr = 0.035\n",
    "attention = \"additive\"\n",
    "\n",
    "model_additive = ClassificationAttentionModel(\n",
    "    embedding.weight.clone(),\n",
    "    attention_type=attention,\n",
    "    hidden_size=hidden_size,\n",
    "    batch_size=batch_size,\n",
    "    checkpoint_path=checkpoint_path,\n",
    "    epochs=epochs\n",
    ").to(device)\n",
    "\n",
    "writer = SummaryWriter(comment=\"(small)BaselineAttentionModel additive attention type variation\")\n",
    "\n",
    "optimizer = torch.optim.SGD(model_additive.parameters(), lr=lr, momentum=0.95)\n",
    "\n",
    "test_acc = train_and_evaluate(model_additive, optimizer, train_loader, val_loader, test_loader, writer)\n",
    "print(f'Test accuracy: {test_acc}.')"
   ]
  },
  {
   "cell_type": "markdown",
   "metadata": {},
   "source": [
    "### Repeat 1)2)3) above but this time on the medium size dataset."
   ]
  },
  {
   "cell_type": "code",
   "execution_count": 15,
   "metadata": {},
   "outputs": [
    {
     "name": "stdout",
     "output_type": "stream",
     "text": [
      "Loaded tokenizer. Vocabulary size: 25000.\n",
      "------------------------------------------------------------------\n",
      "Train ClassificationAttentionModel with dot-product attention type....\n"
     ]
    },
    {
     "name": "stderr",
     "output_type": "stream",
     "text": [
      "  2%|██████▍                                                                                                                                                                                                                                                                                                                   | 1/49 [01:40<1:20:30, 100.64s/it]"
     ]
    },
    {
     "name": "stdout",
     "output_type": "stream",
     "text": [
      "done epoch 1 accuracy | 0.6019298245614035.\n"
     ]
    },
    {
     "name": "stderr",
     "output_type": "stream",
     "text": [
      "  4%|████████████▊                                                                                                                                                                                                                                                                                                             | 2/49 [03:28<1:22:02, 104.74s/it]"
     ]
    },
    {
     "name": "stdout",
     "output_type": "stream",
     "text": [
      "done epoch 2 accuracy | 0.639298245614035.\n",
      "EarlyStopper counter: 1 out of 10\n"
     ]
    },
    {
     "name": "stderr",
     "output_type": "stream",
     "text": [
      "  6%|███████████████████▏                                                                                                                                                                                                                                                                                                      | 3/49 [05:15<1:21:11, 105.91s/it]"
     ]
    },
    {
     "name": "stdout",
     "output_type": "stream",
     "text": [
      "done epoch 3 accuracy | 0.6505263157894737.\n",
      "EarlyStopper counter: 2 out of 10\n"
     ]
    },
    {
     "name": "stderr",
     "output_type": "stream",
     "text": [
      "  8%|█████████████████████████▋                                                                                                                                                                                                                                                                                                | 4/49 [07:02<1:19:42, 106.28s/it]"
     ]
    },
    {
     "name": "stdout",
     "output_type": "stream",
     "text": [
      "done epoch 4 accuracy | 0.6507017543859649.\n",
      "EarlyStopper counter: 3 out of 10\n"
     ]
    },
    {
     "name": "stderr",
     "output_type": "stream",
     "text": [
      " 10%|████████████████████████████████                                                                                                                                                                                                                                                                                          | 5/49 [08:49<1:18:16, 106.74s/it]"
     ]
    },
    {
     "name": "stdout",
     "output_type": "stream",
     "text": [
      "done epoch 5 accuracy | 0.6566666666666666.\n",
      "EarlyStopper counter: 4 out of 10\n"
     ]
    },
    {
     "name": "stderr",
     "output_type": "stream",
     "text": [
      " 12%|██████████████████████████████████████▍                                                                                                                                                                                                                                                                                   | 6/49 [10:30<1:15:04, 104.75s/it]"
     ]
    },
    {
     "name": "stdout",
     "output_type": "stream",
     "text": [
      "done epoch 6 accuracy | 0.6594736842105263.\n",
      "EarlyStopper counter: 5 out of 10\n"
     ]
    },
    {
     "name": "stderr",
     "output_type": "stream",
     "text": [
      " 14%|████████████████████████████████████████████▊                                                                                                                                                                                                                                                                             | 7/49 [12:13<1:12:44, 103.93s/it]"
     ]
    },
    {
     "name": "stdout",
     "output_type": "stream",
     "text": [
      "done epoch 7 accuracy | 0.66.\n",
      "EarlyStopper counter: 6 out of 10\n"
     ]
    },
    {
     "name": "stderr",
     "output_type": "stream",
     "text": [
      " 16%|███████████████████████████████████████████████████▎                                                                                                                                                                                                                                                                      | 8/49 [13:52<1:10:07, 102.63s/it]"
     ]
    },
    {
     "name": "stdout",
     "output_type": "stream",
     "text": [
      "done epoch 8 accuracy | 0.659298245614035.\n",
      "EarlyStopper counter: 7 out of 10\n"
     ]
    },
    {
     "name": "stderr",
     "output_type": "stream",
     "text": [
      " 18%|█████████████████████████████████████████████████████████▋                                                                                                                                                                                                                                                                | 9/49 [15:32<1:07:48, 101.72s/it]"
     ]
    },
    {
     "name": "stdout",
     "output_type": "stream",
     "text": [
      "done epoch 9 accuracy | 0.6619298245614035.\n",
      "EarlyStopper counter: 8 out of 10\n"
     ]
    },
    {
     "name": "stderr",
     "output_type": "stream",
     "text": [
      " 20%|███████████████████████████████████████████████████████████████▉                                                                                                                                                                                                                                                         | 10/49 [17:12<1:05:44, 101.13s/it]"
     ]
    },
    {
     "name": "stdout",
     "output_type": "stream",
     "text": [
      "done epoch 10 accuracy | 0.6547368421052632.\n",
      "EarlyStopper counter: 9 out of 10\n"
     ]
    },
    {
     "name": "stderr",
     "output_type": "stream",
     "text": [
      " 20%|███████████████████████████████████████████████████████████████▉                                                                                                                                                                                                                                                         | 10/49 [18:53<1:13:39, 113.33s/it]"
     ]
    },
    {
     "name": "stdout",
     "output_type": "stream",
     "text": [
      "done epoch 11 accuracy | 0.6480701754385965.\n",
      "EarlyStopper counter: 10 out of 10\n",
      "early stopping triggered. training stopped and model is saved.\n"
     ]
    },
    {
     "name": "stderr",
     "output_type": "stream",
     "text": [
      "\n"
     ]
    },
    {
     "name": "stdout",
     "output_type": "stream",
     "text": [
      "Test accuracy: 0.6545614035087719.\n",
      "------------------------------------------------------------------\n",
      "2. Train ClassificationAttentionModel without RNA layer.\n"
     ]
    },
    {
     "name": "stderr",
     "output_type": "stream",
     "text": [
      "  2%|██████▍                                                                                                                                                                                                                                                                                                                   | 1/49 [01:47<1:25:49, 107.29s/it]"
     ]
    },
    {
     "name": "stdout",
     "output_type": "stream",
     "text": [
      "done epoch 1 accuracy | 0.5819298245614035.\n"
     ]
    },
    {
     "name": "stderr",
     "output_type": "stream",
     "text": [
      "  4%|████████████▊                                                                                                                                                                                                                                                                                                             | 2/49 [03:35<1:24:35, 107.99s/it]"
     ]
    },
    {
     "name": "stdout",
     "output_type": "stream",
     "text": [
      "done epoch 2 accuracy | 0.6457894736842106.\n",
      "EarlyStopper counter: 1 out of 10\n"
     ]
    },
    {
     "name": "stderr",
     "output_type": "stream",
     "text": [
      "  6%|███████████████████▏                                                                                                                                                                                                                                                                                                      | 3/49 [05:21<1:22:08, 107.13s/it]"
     ]
    },
    {
     "name": "stdout",
     "output_type": "stream",
     "text": [
      "done epoch 3 accuracy | 0.6533333333333333.\n",
      "EarlyStopper counter: 2 out of 10\n"
     ]
    },
    {
     "name": "stderr",
     "output_type": "stream",
     "text": [
      "  8%|█████████████████████████▋                                                                                                                                                                                                                                                                                                | 4/49 [07:01<1:18:16, 104.36s/it]"
     ]
    },
    {
     "name": "stdout",
     "output_type": "stream",
     "text": [
      "done epoch 4 accuracy | 0.6563157894736842.\n",
      "EarlyStopper counter: 3 out of 10\n"
     ]
    },
    {
     "name": "stderr",
     "output_type": "stream",
     "text": [
      " 10%|████████████████████████████████                                                                                                                                                                                                                                                                                          | 5/49 [08:45<1:16:15, 104.00s/it]"
     ]
    },
    {
     "name": "stdout",
     "output_type": "stream",
     "text": [
      "done epoch 5 accuracy | 0.6585964912280702.\n",
      "EarlyStopper counter: 4 out of 10\n"
     ]
    },
    {
     "name": "stderr",
     "output_type": "stream",
     "text": [
      " 12%|██████████████████████████████████████▍                                                                                                                                                                                                                                                                                   | 6/49 [10:27<1:14:00, 103.28s/it]"
     ]
    },
    {
     "name": "stdout",
     "output_type": "stream",
     "text": [
      "done epoch 6 accuracy | 0.6607017543859649.\n",
      "EarlyStopper counter: 5 out of 10\n"
     ]
    },
    {
     "name": "stderr",
     "output_type": "stream",
     "text": [
      " 14%|████████████████████████████████████████████▊                                                                                                                                                                                                                                                                             | 7/49 [12:13<1:12:55, 104.17s/it]"
     ]
    },
    {
     "name": "stdout",
     "output_type": "stream",
     "text": [
      "done epoch 7 accuracy | 0.6610526315789473.\n",
      "EarlyStopper counter: 6 out of 10\n"
     ]
    },
    {
     "name": "stderr",
     "output_type": "stream",
     "text": [
      " 16%|███████████████████████████████████████████████████▎                                                                                                                                                                                                                                                                      | 8/49 [14:07<1:13:26, 107.49s/it]"
     ]
    },
    {
     "name": "stdout",
     "output_type": "stream",
     "text": [
      "done epoch 8 accuracy | 0.6589473684210526.\n",
      "EarlyStopper counter: 7 out of 10\n"
     ]
    },
    {
     "name": "stderr",
     "output_type": "stream",
     "text": [
      " 18%|█████████████████████████████████████████████████████████▋                                                                                                                                                                                                                                                                | 9/49 [15:50<1:10:41, 106.03s/it]"
     ]
    },
    {
     "name": "stdout",
     "output_type": "stream",
     "text": [
      "done epoch 9 accuracy | 0.6568421052631579.\n",
      "EarlyStopper counter: 8 out of 10\n"
     ]
    },
    {
     "name": "stderr",
     "output_type": "stream",
     "text": [
      " 20%|███████████████████████████████████████████████████████████████▉                                                                                                                                                                                                                                                         | 10/49 [17:30<1:07:45, 104.24s/it]"
     ]
    },
    {
     "name": "stdout",
     "output_type": "stream",
     "text": [
      "done epoch 10 accuracy | 0.655438596491228.\n",
      "EarlyStopper counter: 9 out of 10\n"
     ]
    },
    {
     "name": "stderr",
     "output_type": "stream",
     "text": [
      " 20%|███████████████████████████████████████████████████████████████▉                                                                                                                                                                                                                                                         | 10/49 [18:48<1:13:20, 112.83s/it]\n",
      "\n",
      "KeyboardInterrupt\n",
      "\n"
     ]
    }
   ],
   "source": [
    "name_dataset_size = \"medium\"\n",
    "\n",
    "## hyperparameters\n",
    "batch_size = 64\n",
    "document_length = -1\n",
    "epochs = 50\n",
    "hidden_size = 512\n",
    "lr = 0.035\n",
    "\n",
    "tokenizer = get_tokenizer(data_path=f'{root_data}.{name_dataset_size}.train.txt', save_path=tokenizer_save_path)\n",
    "embedding = get_initial_embedding(path=glove_path, tokenizer=tokenizer, save_path=embedding_save_path)\n",
    "train_loader, val_loader, test_loader = get_loaders(root_data, name_dataset_size, batch_size, tokenizer, document_length=document_length)\n",
    "\n",
    "print(\"------------------------------------------------------------------\")\n",
    "print(\"Train ClassificationAttentionModel with dot-product attention type....\")\n",
    "attention = \"dot\"\n",
    "model_dot_product = ClassificationAttentionModel(\n",
    "    embedding.weight.clone(),\n",
    "    attention_type=attention,\n",
    "    hidden_size=hidden_size,\n",
    "    batch_size=batch_size,\n",
    "    checkpoint_path=checkpoint_path,\n",
    "    epochs=epochs,\n",
    "    model_name_siffix=\"medium\"\n",
    ").to(device)\n",
    "writer = SummaryWriter(comment=\"(medium)BaselineAttentionModel dot-product attention type variation\")\n",
    "optimizer = torch.optim.SGD(model_dot_product.parameters(), lr=lr, momentum=0.95)\n",
    "test_acc = train_and_evaluate(model_dot_product, optimizer, train_loader, val_loader, test_loader, writer)\n",
    "print(f'Test accuracy: {test_acc}.')\n",
    "del model_dot_product\n",
    "\n",
    "\n",
    "print(\"------------------------------------------------------------------\")\n",
    "print(\"2. Train ClassificationAttentionModel without RNA layer.\")\n",
    "model_no_rna = ClassificationAttentionModel(\n",
    "    embedding.weight.clone(),\n",
    "    attention_type=attention,\n",
    "    hidden_size=hidden_size,\n",
    "    batch_size=batch_size,\n",
    "    checkpoint_path=checkpoint_path,\n",
    "    epochs=epochs,\n",
    "    model_name_siffix=\"no_rna_medium\"\n",
    ").to(device)\n",
    "writer = SummaryWriter(comment=\"(medium)BaselineAttentionModel no RNA layer variation\")\n",
    "optimizer = torch.optim.SGD(model_no_rna.parameters(), lr=lr, momentum=0.95)\n",
    "test_acc = train_and_evaluate(model_no_rna, optimizer, train_loader, val_loader, test_loader, writer)\n",
    "del model_no_rna\n",
    "\n",
    "\n",
    "print(\"------------------------------------------------------------------\")\n",
    "print(\"3. Train ClassificationAttentionModel with the additive attention type.\")\n",
    "attention = \"additive\"\n",
    "model_additive = ClassificationAttentionModel(\n",
    "    embedding.weight.clone(),\n",
    "    attention_type=attention,\n",
    "    hidden_size=hidden_size,\n",
    "    batch_size=batch_size,\n",
    "    checkpoint_path=checkpoint_path,\n",
    "    epochs=epochs,\n",
    "    model_name_siffix=\"medium\"\n",
    ").to(device)\n",
    "writer = SummaryWriter(comment=\"(medium)BaselineAttentionModel additive attention type variation\")\n",
    "optimizer = torch.optim.SGD(model_additive.parameters(), lr=lr, momentum=0.95)\n",
    "test_acc = train_and_evaluate(model_additive, optimizer, train_loader, val_loader, test_loader, writer)\n",
    "print(f'Test accuracy: {test_acc}.')\n",
    "del model_additive"
   ]
  },
  {
   "cell_type": "code",
   "execution_count": 14,
   "metadata": {},
   "outputs": [],
   "source": [
    "del model_dot_product"
   ]
  },
  {
   "cell_type": "markdown",
   "metadata": {},
   "source": [
    "### Report\n",
    "\n",
    "| Dataset | ClassificationAttentionModel variation | Accuracy |\n",
    "|---|:---:| :---:|\n",
    "|small | dot-product |  | \n",
    "|small | no RNA layer* | |\n",
    "|small | attentive attention | |\n",
    "|medium | dot-product | 0.6545614035087719 | \n",
    "|medium | no RNA layer* |? |\n",
    "|medium | attentive attention | ? |\n",
    "\n",
    "*with dot-product attention type\n",
    "\n",
    "....TODO...\n",
    "\n",
    "- hypermarameters search\n",
    "- architecture built\n",
    "- accuracies on the no RNN/ yes RNN and yes RNN with different attnetion types.\n",
    "\n",
    "\n",
    "sweep for hyperparamer search for the baseline mode with dot-product variation: https://wandb.ai/ionelia/document-classfication-with-Attention/sweeps/odhes3nd?workspace=user-ionelia"
   ]
  },
  {
   "cell_type": "markdown",
   "metadata": {},
   "source": [
    "<a name=\"section-classification-transformer\"></a><h2 style=\"color:rgb(0,120,170)\">Task B: Document Classification with Transformer (10 points)</h2>"
   ]
  },
  {
   "cell_type": "markdown",
   "metadata": {},
   "source": [
    "<div style=\"background-color:rgb(224, 243, 255)\">\n",
    "    \n",
    "This task implements a document classification model using Transformer Decoder. This model is called **`ClassificationTransformerModel`** in the code, containing all various variants as explained later. \n",
    "\n",
    "The implementation of the basic architecture of `ClassificationTransformerModel` covers the following points:\n",
    "\n",
    "**Baseline model:** The architecture of baseline `ClassificationTransformerModel`is the exactly the same as the one of `ClassificationAttentionModel`. The only difference is that `ClassificationTransformerModel` replaces the Attention layer with a Transformer Decoder. \n",
    "\n",
    "- **Transformer Decoder (3 points).** Use `torch.nn.TransformerDecoder` class or any other implementation of Transformer Decoder. The baseline model consists of one layer of Transformer Decoder and is defined with default parameters of Transformer Decoder. As before, Query vector is defined separately, and used as the query of the Transformer.\n",
    "\n",
    "- **Model Functionality (1 point).**\n",
    "\n",
    "**Model variations:** Implement the **two variations** of the baseline model as explained below. Each variation applies only one change to the baseline architecture, making it possible to study the effect of the change. The code of all variations should be inside `ClassificationTransformerModel`, and executing a variation should be done by simply passing the corresponding parameters of the variation to the model. \n",
    "\n",
    "- **Transformer Encoder (3 point).** Replace the RNN layer with a Transformer Encoder. Similar to the RNN, the aim of this layer is to provide contextual embeddings of the input word embeddings. \n",
    "\n",
    "- **Number of heads (1 point).** Study the effect of increasing/decreasing the number of heads of the Transformer Decoder.\n",
    "\n",
    "- **Number of layers (1 point).** Study the effect of increasing the layers of the Transformer Decoder.\n",
    "\n",
    "\n",
    "**Reporting and discussion (1 point).** Report the evaluation results of the baseline model, as well as the ones for all the variations in a table and also in a plot. Discuss which variation(s) appear to be the most effective. Explain your take.\n",
    "</div>"
   ]
  },
  {
   "cell_type": "code",
   "execution_count": null,
   "metadata": {},
   "outputs": [],
   "source": [
    "class ClassificationTransformerModel(ModelInCommon):\n",
    "    def __init__(\n",
    "            self,\n",
    "            embedding_weights,\n",
    "            num_classes=12,\n",
    "            hidden_size=512,\n",
    "            num_layers=2,\n",
    "            dropout=.5,\n",
    "            freeze_embeddings=False,\n",
    "            num_heads=1,\n",
    "            num_transformer_layers=1,\n",
    "            batch_size=32,\n",
    "            epochs=10,\n",
    "            patience=5,\n",
    "            checkpoint_path=None\n",
    "    ):\n",
    "        super().__init__()\n",
    "\n",
    "        self.vocab_size, self.embedding_size = embedding_weights.shape\n",
    "        self.embedding = nn.Embedding(self.vocab_size, self.embedding_size)\n",
    "        self.embedding.weight = nn.Parameter(embedding_weights, requires_grad=not freeze_embeddings)\n",
    "\n",
    "        self.batch_size = batch_size\n",
    "        self.epochs = epochs\n",
    "        self.patience = patience\n",
    "        self.best_accuracy_so_far = None\n",
    "        self.delta = 0.0\n",
    "        self.counter = 0\n",
    "        self.checkpoint_path = checkpoint_path\n",
    "        self.num_heads = num_heads\n",
    "\n",
    "        if hidden_size > 0:\n",
    "            self.backbone = nn.LSTM(\n",
    "                input_size=self.embedding_size,\n",
    "                hidden_size=hidden_size,\n",
    "                num_layers=num_layers,\n",
    "                batch_first=True,\n",
    "                dropout=dropout,\n",
    "                bidirectional=True\n",
    "            )\n",
    "\n",
    "            self.hidden_size = hidden_size * 2\n",
    "        else:\n",
    "            self.backbone = None\n",
    "            self.hidden_size = self.embedding_size\n",
    "\n",
    "        self.transformer = nn.TransformerEncoder(\n",
    "            encoder_layer=nn.TransformerEncoderLayer(self.hidden_size, num_heads),\n",
    "            num_layers=num_transformer_layers\n",
    "        )\n",
    "        self.linear = nn.Linear(self.hidden_size, num_classes)\n",
    "\n",
    "    def forward(self, input):\n",
    "        inputs, input_lengths = inputs\n",
    "        batch_size, sequence_length = inputs.shape\n",
    "        embedded = self.embedding(inputs.long().to(self.device))\n",
    "        output = self.run_backbone(embedded, input_lengths)\n",
    "        _padding_mask=self.generate_padding_mask(batch_size, sequence_length, input_lengths)\n",
    "        output = self.transformer(output.permute(1, 0, 2), src_key_padding_mask=_padding_mask.to(self.device))\n",
    "        return self.linear(output[0]), None"
   ]
  },
  {
   "cell_type": "code",
   "execution_count": null,
   "metadata": {},
   "outputs": [],
   "source": [
    "# TODO train transformer"
   ]
  },
  {
   "cell_type": "markdown",
   "metadata": {},
   "source": [
    "<a name=\"section-classification-bert\"></a><h2 style=\"color:rgb(0,120,170)\">Task C: Document Classification with BERT (5 points)</h2>"
   ]
  },
  {
   "cell_type": "markdown",
   "metadata": {},
   "source": [
    "<div style=\"background-color:rgb(224, 243, 255)\">\n",
    "    \n",
    "This task implements a document classification model using BERT. This model is called **`ClassificationBERTModel`**.\n",
    "\n",
    "**Model Functionality (4 points):** Use the `transformers` library from `huggingface` to load a (small) pre-trained BERT model for document classification. Select a BERT model according to your available resources. The available models can be found [here](https://huggingface.co/models) and [here](https://github.com/google-research/bert). The weights of the BERT model should be fine-tuned using the available training data of the task. Consult the documentation of `huggingface` for a correct implementation of the classifier. \n",
    "\n",
    "**Reporting and discussion (1 point).** Evaluate the model and report the results.\n",
    "\n",
    "</div>"
   ]
  },
  {
   "cell_type": "code",
   "execution_count": null,
   "metadata": {},
   "outputs": [],
   "source": []
  },
  {
   "cell_type": "code",
   "execution_count": null,
   "metadata": {},
   "outputs": [],
   "source": []
  },
  {
   "cell_type": "markdown",
   "metadata": {},
   "source": [
    "<a name=\"section-interpretation\"></a><h2 style=\"color:rgb(0,120,170)\">Task D: Interpreting Attention Weights (3 extra points)</h2>"
   ]
  },
  {
   "cell_type": "markdown",
   "metadata": {},
   "source": [
    "<div style=\"background-color:rgb(224, 243, 255)\">\n",
    "\n",
    "The aim of this task is to provide an interpretation of the functionality of one of the models, by exploring which words have the higher contributions to the prediction results of some specific documents. \n",
    "\n",
    "**Attention weights (2.5 extra points):** Select one of the models trained in the previous tasks as you prefer. Select four documents from test set, such that two are correctly and the other two are incorrectly classified by the model. Next, run the forward pass for each of these documents and extract the corresponding attention weights from the model. Separately for each document, interpret the mechanism of the classifier by looking at the words with the highest attention weights. Do these words – in your opinion – provide important information to the predicted class?\n",
    "\n",
    "**Visualization (0.5 overall extra points):** Visualize the attention weights over document’s words. Some suggested tools and resources:\n",
    "\n",
    "https://github.com/minqi/hnatt\n",
    "\n",
    "https://github.com/jiesutd/Text-Attention-Heatmap-Visualization \n",
    "\n",
    "https://github.com/cbaziotis/neat-vision\n",
    "</div>"
   ]
  },
  {
   "cell_type": "code",
   "execution_count": 29,
   "metadata": {},
   "outputs": [
    {
     "name": "stdout",
     "output_type": "stream",
     "text": [
      "Loaded tokenizer. Vocabulary size: 25000.\n"
     ]
    }
   ],
   "source": [
    "name_dataset_size = \"small\"\n",
    "\n",
    "## hyperparameters\n",
    "batch_size = 64\n",
    "document_length = -1\n",
    "epochs = 50\n",
    "\n",
    "tokenizer = get_tokenizer(data_path=f'{root_data}.{name_dataset_size}.train.txt', save_path=tokenizer_save_path)\n",
    "embedding = get_initial_embedding(path=glove_path, tokenizer=tokenizer, save_path=embedding_save_path)\n",
    "\n",
    "test_set = DocumentDataset(path=f'{root_data}.{name_dataset_size}.test.txt', tokenizer=tokenizer, document_length=document_length)\n",
    "\n",
    "model = ClassificationAttentionModel(embedding.weight.clone(), attention_type='additive', batch_size=32).to(device)\n",
    "model.load_state_dict(torch.load('/home/ionelia/pycharm-projects/NLPwDL/assignment#2/checkpoints/additive.best.pth'))\n",
    "\n",
    "correct, misclassified = test_set.find_examples(model, seed=0)"
   ]
  },
  {
   "cell_type": "code",
   "execution_count": null,
   "metadata": {},
   "outputs": [],
   "source": [
    "TODO vis "
   ]
  }
 ],
 "metadata": {
  "kernelspec": {
   "display_name": "nlp",
   "language": "python",
   "name": "nlp"
  },
  "language_info": {
   "codemirror_mode": {
    "name": "ipython",
    "version": 3
   },
   "file_extension": ".py",
   "mimetype": "text/x-python",
   "name": "python",
   "nbconvert_exporter": "python",
   "pygments_lexer": "ipython3",
   "version": "3.8.10"
  }
 },
 "nbformat": 4,
 "nbformat_minor": 4
}
